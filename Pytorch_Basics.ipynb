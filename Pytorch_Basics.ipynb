{
  "nbformat": 4,
  "nbformat_minor": 0,
  "metadata": {
    "colab": {
      "name": "Pytroch_Basics.ipynb",
      "provenance": []
    },
    "kernelspec": {
      "name": "python3",
      "display_name": "Python 3"
    },
    "language_info": {
      "name": "python"
    },
    "accelerator": "GPU"
  },
  "cells": [
    {
      "cell_type": "code",
      "metadata": {
        "id": "qRf0uBl0i4W_"
      },
      "source": [
        "import os \n",
        "os.chdir('/content/drive/MyDrive/DeepLearningColab/Pytorch_Basics')"
      ],
      "execution_count": null,
      "outputs": []
    },
    {
      "cell_type": "code",
      "metadata": {
        "colab": {
          "base_uri": "https://localhost:8080/",
          "height": 35
        },
        "id": "ujgXtC8LjK5-",
        "outputId": "79da1976-6400-4ffd-d978-32530d0ac004"
      },
      "source": [
        "pwd"
      ],
      "execution_count": null,
      "outputs": [
        {
          "output_type": "execute_result",
          "data": {
            "application/vnd.google.colaboratory.intrinsic+json": {
              "type": "string"
            },
            "text/plain": [
              "'/content/drive/MyDrive/DeepLearningColab/Pytorch_Basics'"
            ]
          },
          "metadata": {},
          "execution_count": 2
        }
      ]
    },
    {
      "cell_type": "code",
      "metadata": {
        "id": "u0asUkRCjWQ9"
      },
      "source": [
        "import torch\n",
        "import numpy as np"
      ],
      "execution_count": null,
      "outputs": []
    },
    {
      "cell_type": "code",
      "metadata": {
        "colab": {
          "base_uri": "https://localhost:8080/"
        },
        "id": "tPvLf0wtysWH",
        "outputId": "ca1fe64a-98f4-45ce-aa6a-fbdb082e4e28"
      },
      "source": [
        "# Tensor initialization\n",
        "  # --> Dtype\n",
        "  # --> Device - cpu or gpu\n",
        "  # --> requires _ grad --> gradient decent , during back prop\n",
        "\n",
        "# This line repesents that if your system has gpu it will be used else cpu \n",
        "# Makes your code work in both condition\n",
        "device = 'cuda' if torch.cuda.is_available() else 'cpu'\n",
        "\n",
        "tensor = torch.tensor([[1,2,3],[1,2,3]],\n",
        "                      dtype=torch.float,\n",
        "                      device=device,requires_grad = True)\n",
        "\n",
        "\n",
        "print(tensor)\n",
        "print(tensor.dtype)\n",
        "# default 0 means 1 gpu \n",
        "print(tensor.device)\n",
        "print(tensor.shape)\n",
        "print(tensor.requires_grad)"
      ],
      "execution_count": null,
      "outputs": [
        {
          "output_type": "stream",
          "name": "stdout",
          "text": [
            "tensor([[1., 2., 3.],\n",
            "        [1., 2., 3.]], device='cuda:0', requires_grad=True)\n",
            "torch.float32\n",
            "cuda:0\n",
            "torch.Size([2, 3])\n",
            "True\n"
          ]
        }
      ]
    },
    {
      "cell_type": "code",
      "metadata": {
        "colab": {
          "base_uri": "https://localhost:8080/"
        },
        "id": "ooWeKg87HMQP",
        "outputId": "bd94b292-d78d-4b42-8ff5-2f8ba3efc22e"
      },
      "source": [
        "# Other common initialization\n",
        "\n",
        "# empty will create space of size with random values \n",
        "x = torch.empty(size=(3,3))\n",
        "print(x)\n",
        "\n",
        "# Zeros\n",
        "x = torch.zeros(size=(3,3))\n",
        "print(x)\n",
        "\n",
        "# ones\n",
        "x = torch.ones(size=(3,3))\n",
        "print(x)\n",
        "\n",
        "# random\n",
        "x = torch.rand(size=(3,3))\n",
        "print(x)\n",
        "\n",
        "# eye identity matrix\n",
        "x = torch.eye(3)\n",
        "print(x)\n",
        "\n",
        "# eye identity matrix\n",
        "x = torch.arange(start=0,end=5,step=1)\n",
        "print(x)\n",
        "\n",
        "# eye identity matrix\n",
        "x = torch.linspace(start=1,end=10,steps=11)\n",
        "print(x)\n",
        "\n",
        "# eye identity matrix\n",
        "x = torch.eye(3)\n",
        "print(x)\n",
        "\n",
        "# empty with normal and uniform \n",
        "x = torch.empty(size=(3,3)).normal_(mean=0,std=1)\n",
        "print(x)\n",
        "\n",
        "x = torch.empty(size=(3,3)).uniform_()\n",
        "print(x)\n",
        "\n",
        "# diagnal matrix \n",
        "x = torch.diag(torch.ones(10))\n",
        "print(x)"
      ],
      "execution_count": null,
      "outputs": [
        {
          "output_type": "stream",
          "name": "stdout",
          "text": [
            "tensor([[-1.8201e-03,  3.0721e-41,  3.3631e-44],\n",
            "        [ 0.0000e+00,         nan,  3.0721e-41],\n",
            "        [ 1.1578e+27,  1.1362e+30,  7.1547e+22]])\n",
            "tensor([[0., 0., 0.],\n",
            "        [0., 0., 0.],\n",
            "        [0., 0., 0.]])\n",
            "tensor([[1., 1., 1.],\n",
            "        [1., 1., 1.],\n",
            "        [1., 1., 1.]])\n",
            "tensor([[0.3574, 0.5665, 0.5481],\n",
            "        [0.1781, 0.6827, 0.1490],\n",
            "        [0.6071, 0.4483, 0.0266]])\n",
            "tensor([[1., 0., 0.],\n",
            "        [0., 1., 0.],\n",
            "        [0., 0., 1.]])\n",
            "tensor([0, 1, 2, 3, 4])\n",
            "tensor([ 1.0000,  1.9000,  2.8000,  3.7000,  4.6000,  5.5000,  6.4000,  7.3000,\n",
            "         8.2000,  9.1000, 10.0000])\n",
            "tensor([[1., 0., 0.],\n",
            "        [0., 1., 0.],\n",
            "        [0., 0., 1.]])\n",
            "tensor([[ 0.8118, -0.8655, -1.3193],\n",
            "        [ 0.7292,  1.6709,  0.4414],\n",
            "        [ 0.3289,  0.5014,  2.3698]])\n",
            "tensor([[0.3564, 0.1291, 0.7321],\n",
            "        [0.1950, 0.2774, 0.6381],\n",
            "        [0.8639, 0.8832, 0.6554]])\n",
            "tensor([[1., 0., 0., 0., 0., 0., 0., 0., 0., 0.],\n",
            "        [0., 1., 0., 0., 0., 0., 0., 0., 0., 0.],\n",
            "        [0., 0., 1., 0., 0., 0., 0., 0., 0., 0.],\n",
            "        [0., 0., 0., 1., 0., 0., 0., 0., 0., 0.],\n",
            "        [0., 0., 0., 0., 1., 0., 0., 0., 0., 0.],\n",
            "        [0., 0., 0., 0., 0., 1., 0., 0., 0., 0.],\n",
            "        [0., 0., 0., 0., 0., 0., 1., 0., 0., 0.],\n",
            "        [0., 0., 0., 0., 0., 0., 0., 1., 0., 0.],\n",
            "        [0., 0., 0., 0., 0., 0., 0., 0., 1., 0.],\n",
            "        [0., 0., 0., 0., 0., 0., 0., 0., 0., 1.]])\n"
          ]
        }
      ]
    },
    {
      "cell_type": "code",
      "metadata": {
        "colab": {
          "base_uri": "https://localhost:8080/"
        },
        "id": "rK_l_CLXKoGH",
        "outputId": "e06fb75b-ca26-4b2f-911c-e920262dec99"
      },
      "source": [
        "# How to convert tensor to different data types(int,float,double)\n",
        "x = torch.arange(4)\n",
        "print(x.bool())\n",
        "print(x.int())\n",
        "print(x.short()) # int16\n",
        "print(x.long())  # int64\n",
        "print(x.half())  # float 16\n",
        "print(x.float()) # float 32\n",
        "print(x.double())# float 64"
      ],
      "execution_count": null,
      "outputs": [
        {
          "output_type": "stream",
          "name": "stdout",
          "text": [
            "tensor([False,  True,  True,  True])\n",
            "tensor([0, 1, 2, 3], dtype=torch.int32)\n",
            "tensor([0, 1, 2, 3], dtype=torch.int16)\n",
            "tensor([0, 1, 2, 3])\n",
            "tensor([0., 1., 2., 3.], dtype=torch.float16)\n",
            "tensor([0., 1., 2., 3.])\n",
            "tensor([0., 1., 2., 3.], dtype=torch.float64)\n"
          ]
        }
      ]
    },
    {
      "cell_type": "code",
      "metadata": {
        "colab": {
          "base_uri": "https://localhost:8080/"
        },
        "id": "DQCzn1KGxxH2",
        "outputId": "112c4980-03c5-4033-885d-21a6f31bede0"
      },
      "source": [
        "# How to convert from numpy to tensor\n",
        "\n",
        "np_array = np.array([[1,2,3],[4,5,6]])\n",
        "print(np_array)\n",
        "\n",
        "tensor = torch.from_numpy(np_array)\n",
        "print(tensor)"
      ],
      "execution_count": null,
      "outputs": [
        {
          "output_type": "stream",
          "name": "stdout",
          "text": [
            "[[1 2 3]\n",
            " [4 5 6]]\n",
            "tensor([[1, 2, 3],\n",
            "        [4, 5, 6]])\n"
          ]
        }
      ]
    },
    {
      "cell_type": "code",
      "metadata": {
        "colab": {
          "base_uri": "https://localhost:8080/"
        },
        "id": "lpRY8P6Gy2I4",
        "outputId": "c159dafa-6ebb-485a-d4e7-85ba7686dad4"
      },
      "source": [
        "# Tensor Maths or Arthmatic operations \n",
        "x = torch.arange(start=10,end=20, step=4)\n",
        "y = torch.arange(start=5,end=15, step=4)\n",
        "\n",
        "print(x) \n",
        "print(y)\n",
        "\n",
        "# addition \n",
        "  #w1\n",
        "print('Add:',x+y) # element-wise addition \n",
        "\n",
        "  #w2\n",
        "z1 = torch.empty(3)\n",
        "torch.add(x,y,out=z1)\n",
        "print('Using empty :',z1)\n",
        "\n",
        " #w3 \n",
        "print('Direct:',torch.add(x,y))\n",
        "\n",
        "# subtraction \n",
        "print('SUB:',x-y) # element-wise sub\n",
        "\n",
        "# multiplication \n",
        "print('MUL:',x*y) # element-wise Multiplication\n",
        "\n",
        "# Division\n",
        "z = x/y\n",
        "print(z)"
      ],
      "execution_count": null,
      "outputs": [
        {
          "output_type": "stream",
          "name": "stdout",
          "text": [
            "tensor([10, 14, 18])\n",
            "tensor([ 5,  9, 13])\n",
            "Add: tensor([15, 23, 31])\n",
            "Using empty : tensor([15., 23., 31.])\n",
            "Direct: tensor([15, 23, 31])\n",
            "SUB: tensor([5, 5, 5])\n",
            "MUL: tensor([ 50, 126, 234])\n",
            "tensor([2.0000, 1.5556, 1.3846])\n"
          ]
        }
      ]
    },
    {
      "cell_type": "code",
      "metadata": {
        "colab": {
          "base_uri": "https://localhost:8080/"
        },
        "id": "ipE901wmzMYV",
        "outputId": "f93a00fa-69e3-4d54-c427-3a48ccb80d97"
      },
      "source": [
        "# --> Whenever we see operation having _ that means they are inplace\n",
        "# Inplace\n",
        "\n",
        "z = torch.ones(3)\n",
        "# way1 \n",
        "print(z)\n",
        "z.add_(x)\n",
        "print(z)\n",
        "\n",
        "# way2 inplace\n",
        "z +=x\n",
        "\n",
        "# Power , Exponential \n",
        "z = x.pow(2)  #same as below\n",
        "z = x**2\n",
        "print(z)\n",
        "\n",
        "# Comparison\n",
        "z = x >0\n",
        "print(z)"
      ],
      "execution_count": null,
      "outputs": [
        {
          "output_type": "stream",
          "name": "stdout",
          "text": [
            "tensor([1., 1., 1.])\n",
            "tensor([11., 15., 19.])\n",
            "tensor([100, 196, 324])\n",
            "tensor([True, True, True])\n"
          ]
        }
      ]
    },
    {
      "cell_type": "code",
      "metadata": {
        "colab": {
          "base_uri": "https://localhost:8080/"
        },
        "id": "csSEeCx72A_i",
        "outputId": "efd21f13-73c3-4d14-bbac-009a3116d0af"
      },
      "source": [
        "# Matrix Multiplication \n",
        "x1 = torch.rand(size=(3,5))\n",
        "x2 = torch.rand(size=(5,3))\n",
        "\n",
        "x1 @ x2"
      ],
      "execution_count": null,
      "outputs": [
        {
          "output_type": "execute_result",
          "data": {
            "text/plain": [
              "tensor([[1.1097, 1.4858, 1.4478],\n",
              "        [0.7917, 1.2992, 1.2892],\n",
              "        [0.8840, 0.9720, 0.7377]])"
            ]
          },
          "metadata": {},
          "execution_count": 10
        }
      ]
    },
    {
      "cell_type": "code",
      "metadata": {
        "colab": {
          "base_uri": "https://localhost:8080/"
        },
        "id": "MDFrO5ZD3aZZ",
        "outputId": "b3cf9203-c1e8-474a-ea1a-b81076ce1a2b"
      },
      "source": [
        "x1.matmul(x2)"
      ],
      "execution_count": null,
      "outputs": [
        {
          "output_type": "execute_result",
          "data": {
            "text/plain": [
              "tensor([[1.1097, 1.4858, 1.4478],\n",
              "        [0.7917, 1.2992, 1.2892],\n",
              "        [0.8840, 0.9720, 0.7377]])"
            ]
          },
          "metadata": {},
          "execution_count": 11
        }
      ]
    },
    {
      "cell_type": "code",
      "metadata": {
        "colab": {
          "base_uri": "https://localhost:8080/"
        },
        "id": "Q9W1ktd33xtm",
        "outputId": "188a2e9e-8ff6-4b48-fc84-9a5401f59adb"
      },
      "source": [
        "# Matrix exponential\n",
        "m1 = torch.rand((5,5))\n",
        "m1.matrix_exp()"
      ],
      "execution_count": null,
      "outputs": [
        {
          "output_type": "execute_result",
          "data": {
            "text/plain": [
              "tensor([[2.6945, 2.1034, 1.6043, 1.7543, 1.6884],\n",
              "        [1.4434, 2.7699, 1.4889, 1.3319, 1.2115],\n",
              "        [1.7355, 1.9529, 2.1452, 1.4329, 1.5779],\n",
              "        [1.9416, 2.4745, 1.5017, 2.6717, 1.2627],\n",
              "        [2.6517, 3.2420, 2.3756, 2.6051, 3.0051]])"
            ]
          },
          "metadata": {},
          "execution_count": 12
        }
      ]
    },
    {
      "cell_type": "code",
      "metadata": {
        "colab": {
          "base_uri": "https://localhost:8080/"
        },
        "id": "AneGh2e94hMM",
        "outputId": "e2e58bf7-b56f-48e2-a0f1-d6978d091a36"
      },
      "source": [
        "m1.matrix_power(3)"
      ],
      "execution_count": null,
      "outputs": [
        {
          "output_type": "execute_result",
          "data": {
            "text/plain": [
              "tensor([[2.4968, 3.0594, 2.1824, 2.3212, 2.0624],\n",
              "        [1.9984, 2.4564, 1.8004, 1.9072, 1.6452],\n",
              "        [2.2896, 2.7681, 1.8537, 2.0444, 1.8546],\n",
              "        [2.4536, 2.9751, 2.0883, 2.2620, 2.0180],\n",
              "        [3.5527, 4.3520, 3.1528, 3.3420, 2.9386]])"
            ]
          },
          "metadata": {},
          "execution_count": 13
        }
      ]
    },
    {
      "cell_type": "code",
      "metadata": {
        "colab": {
          "base_uri": "https://localhost:8080/"
        },
        "id": "oelQFvqL4s98",
        "outputId": "785fb222-d71b-40e1-ab34-ac1d0625f7b3"
      },
      "source": [
        "# Dot Product \n",
        " # --> sum of element wise multiplication\n",
        "result = torch.dot(x,y)\n",
        "print(result)"
      ],
      "execution_count": null,
      "outputs": [
        {
          "output_type": "stream",
          "name": "stdout",
          "text": [
            "tensor(410)\n"
          ]
        }
      ]
    },
    {
      "cell_type": "code",
      "metadata": {
        "colab": {
          "base_uri": "https://localhost:8080/"
        },
        "id": "KL5XFCSq5I3r",
        "outputId": "32667356-31ce-4543-bced-e23581c10513"
      },
      "source": [
        "# Batch Matrix Multiplication \n",
        "batch = 4\n",
        "n = 4\n",
        "m = 5\n",
        "p = 4\n",
        "\n",
        "m1 = torch.rand(size=(batch,n,m))\n",
        "m2 = torch.rand(size=(batch,m,p))\n",
        "\n",
        "print('M1 : ',m1)\n",
        "print('M2 : ',m2)\n",
        "output = torch.bmm(m1,m2)\n",
        "print('Output : ',output)"
      ],
      "execution_count": null,
      "outputs": [
        {
          "output_type": "stream",
          "name": "stdout",
          "text": [
            "M1 :  tensor([[[0.9254, 0.7631, 0.4458, 0.8146, 0.0154],\n",
            "         [0.7727, 0.1329, 0.1616, 0.9335, 0.8711],\n",
            "         [0.2813, 0.6974, 0.3604, 0.6869, 0.5708],\n",
            "         [0.2151, 0.0853, 0.8987, 0.4211, 0.9426]],\n",
            "\n",
            "        [[0.8304, 0.0430, 0.5054, 0.5621, 0.3544],\n",
            "         [0.9936, 0.2839, 0.6399, 0.9888, 0.5669],\n",
            "         [0.3605, 0.8845, 0.0958, 0.8994, 0.8688],\n",
            "         [0.9697, 0.6366, 0.6689, 0.9893, 0.3641]],\n",
            "\n",
            "        [[0.6791, 0.9650, 0.5007, 0.9848, 0.4178],\n",
            "         [0.2683, 0.6439, 0.4154, 0.8572, 0.6418],\n",
            "         [0.7739, 0.9466, 0.9649, 0.0526, 0.9795],\n",
            "         [0.9463, 0.3175, 0.1716, 0.1316, 0.2422]],\n",
            "\n",
            "        [[0.5349, 0.8729, 0.0140, 0.9535, 0.3146],\n",
            "         [0.3774, 0.6195, 0.6462, 0.8991, 0.6417],\n",
            "         [0.6255, 0.8025, 0.4103, 0.9140, 0.7422],\n",
            "         [0.3782, 0.9151, 0.8375, 0.1348, 0.6414]]])\n",
            "M2 :  tensor([[[0.4604, 0.9350, 0.6088, 0.5748],\n",
            "         [0.8378, 0.1836, 0.5748, 0.8236],\n",
            "         [0.2249, 0.5985, 0.8589, 0.8251],\n",
            "         [0.7501, 0.0646, 0.1320, 0.1109],\n",
            "         [0.5174, 0.9858, 0.6161, 0.7652]],\n",
            "\n",
            "        [[0.1310, 0.1729, 0.7407, 0.7271],\n",
            "         [0.4642, 0.0030, 0.0134, 0.5732],\n",
            "         [0.6560, 0.7271, 0.5124, 0.2796],\n",
            "         [0.9174, 0.7420, 0.8249, 0.5301],\n",
            "         [0.0759, 0.6717, 0.5668, 0.3242]],\n",
            "\n",
            "        [[0.3307, 0.8902, 0.8629, 0.8324],\n",
            "         [0.3137, 0.1762, 0.6557, 0.7709],\n",
            "         [0.4985, 0.0864, 0.4635, 0.4550],\n",
            "         [0.9204, 0.5754, 0.3800, 0.9958],\n",
            "         [0.9752, 0.6502, 0.2303, 0.8630]],\n",
            "\n",
            "        [[0.9050, 0.4448, 0.1768, 0.9798],\n",
            "         [0.7889, 0.4325, 0.2874, 0.1159],\n",
            "         [0.9596, 0.1268, 0.4150, 0.4253],\n",
            "         [0.0489, 0.8614, 0.7654, 0.5418],\n",
            "         [0.0534, 0.4188, 0.2844, 0.4442]]])\n",
            "Output :  tensor([[[1.7846, 1.3399, 1.5019, 1.6303],\n",
            "         [1.6544, 1.7626, 1.3456, 1.4570],\n",
            "         [1.6054, 1.2137, 1.3240, 1.5463],\n",
            "         [1.1762, 1.7109, 1.5882, 1.7033]],\n",
            "\n",
            "        [[1.0028, 1.1663, 1.5391, 1.1826],\n",
            "         [1.6319, 1.7524, 2.2046, 1.7721],\n",
            "         [1.4117, 1.3857, 1.5623, 1.5544],\n",
            "         [1.7965, 1.6346, 2.0919, 1.8995]],\n",
            "\n",
            "        [[2.0908, 1.6560, 1.9212, 2.8782],\n",
            "         [1.9126, 1.2986, 1.3197, 2.3161],\n",
            "         [2.0376, 1.6061, 1.9812, 2.7105],\n",
            "         [0.8554, 1.1463, 1.2101, 1.4506]],\n",
            "\n",
            "        [[1.2496, 1.5704, 1.1705, 1.2876],\n",
            "         [1.5286, 1.5611, 1.3835, 1.4887],\n",
            "         [1.6773, 1.7756, 1.4221, 1.7054],\n",
            "         [1.9087, 1.0550, 0.9629, 1.1908]]])\n"
          ]
        }
      ]
    },
    {
      "cell_type": "code",
      "metadata": {
        "colab": {
          "base_uri": "https://localhost:8080/"
        },
        "id": "STuavqyV6yv_",
        "outputId": "43a8cfe8-babd-4ed9-f7df-47c3a650a437"
      },
      "source": [
        "# Broadcasting\n",
        "x1 = torch.ones((5,5))\n",
        "x2 = torch.ones((1,5))\n",
        "\n",
        "x1 - x2 # matrix - vector"
      ],
      "execution_count": null,
      "outputs": [
        {
          "output_type": "execute_result",
          "data": {
            "text/plain": [
              "tensor([[0., 0., 0., 0., 0.],\n",
              "        [0., 0., 0., 0., 0.],\n",
              "        [0., 0., 0., 0., 0.],\n",
              "        [0., 0., 0., 0., 0.],\n",
              "        [0., 0., 0., 0., 0.]])"
            ]
          },
          "metadata": {},
          "execution_count": 16
        }
      ]
    },
    {
      "cell_type": "code",
      "metadata": {
        "colab": {
          "base_uri": "https://localhost:8080/"
        },
        "id": "L5wS77gu7YJq",
        "outputId": "f2469ae2-bb73-42c7-e6c3-61f96c33f305"
      },
      "source": [
        "# Other usefull Tensor Operations \n",
        "x1 = torch.ones((5,5))\n",
        "torch.sum(x1)"
      ],
      "execution_count": null,
      "outputs": [
        {
          "output_type": "execute_result",
          "data": {
            "text/plain": [
              "tensor(25.)"
            ]
          },
          "metadata": {},
          "execution_count": 17
        }
      ]
    },
    {
      "cell_type": "code",
      "metadata": {
        "colab": {
          "base_uri": "https://localhost:8080/"
        },
        "id": "tw92j6UC7_dK",
        "outputId": "8232d8f7-1929-4066-c641-ad314739f5d5"
      },
      "source": [
        "x1 = torch.rand((5,5))\n",
        "print(x1)\n",
        "print(torch.max(x1,dim = 1)) # return values , indices \n",
        "print(torch.min(x1,dim = 1))"
      ],
      "execution_count": null,
      "outputs": [
        {
          "output_type": "stream",
          "name": "stdout",
          "text": [
            "tensor([[0.4422, 0.7849, 0.5637, 0.7769, 0.7643],\n",
            "        [0.2406, 0.3861, 0.3265, 0.8924, 0.7846],\n",
            "        [0.6301, 0.2687, 0.9835, 0.9999, 0.6946],\n",
            "        [0.9277, 0.3555, 0.9738, 0.9907, 0.2926],\n",
            "        [0.6356, 0.4092, 0.0846, 0.4082, 0.4947]])\n",
            "torch.return_types.max(\n",
            "values=tensor([0.7849, 0.8924, 0.9999, 0.9907, 0.6356]),\n",
            "indices=tensor([1, 3, 3, 3, 0]))\n",
            "torch.return_types.min(\n",
            "values=tensor([0.4422, 0.2406, 0.2687, 0.2926, 0.0846]),\n",
            "indices=tensor([0, 0, 1, 4, 2]))\n"
          ]
        }
      ]
    },
    {
      "cell_type": "code",
      "metadata": {
        "colab": {
          "base_uri": "https://localhost:8080/"
        },
        "id": "gq1Tk72u9U80",
        "outputId": "5cec2de6-ba26-46e3-9cb0-14249308660a"
      },
      "source": [
        "torch.abs(x1) # abs value"
      ],
      "execution_count": null,
      "outputs": [
        {
          "output_type": "execute_result",
          "data": {
            "text/plain": [
              "tensor([[0.4422, 0.7849, 0.5637, 0.7769, 0.7643],\n",
              "        [0.2406, 0.3861, 0.3265, 0.8924, 0.7846],\n",
              "        [0.6301, 0.2687, 0.9835, 0.9999, 0.6946],\n",
              "        [0.9277, 0.3555, 0.9738, 0.9907, 0.2926],\n",
              "        [0.6356, 0.4092, 0.0846, 0.4082, 0.4947]])"
            ]
          },
          "metadata": {},
          "execution_count": 19
        }
      ]
    },
    {
      "cell_type": "code",
      "metadata": {
        "colab": {
          "base_uri": "https://localhost:8080/"
        },
        "id": "4TlbZerl99Kl",
        "outputId": "cea226f6-693a-4ff1-afbd-22a99dbbe526"
      },
      "source": [
        "torch.argmax(x1)"
      ],
      "execution_count": null,
      "outputs": [
        {
          "output_type": "execute_result",
          "data": {
            "text/plain": [
              "tensor(13)"
            ]
          },
          "metadata": {},
          "execution_count": 20
        }
      ]
    },
    {
      "cell_type": "code",
      "metadata": {
        "colab": {
          "base_uri": "https://localhost:8080/"
        },
        "id": "ouBTdKbn-Ca8",
        "outputId": "a9214b94-36e1-4344-e77f-4d8edead1b77"
      },
      "source": [
        "torch.argmin(x1)"
      ],
      "execution_count": null,
      "outputs": [
        {
          "output_type": "execute_result",
          "data": {
            "text/plain": [
              "tensor(22)"
            ]
          },
          "metadata": {},
          "execution_count": 21
        }
      ]
    },
    {
      "cell_type": "code",
      "metadata": {
        "colab": {
          "base_uri": "https://localhost:8080/"
        },
        "id": "ao6IAT8S-F5u",
        "outputId": "912a36e8-3539-45b5-9035-1932cf49af93"
      },
      "source": [
        "torch.mean(x1)"
      ],
      "execution_count": null,
      "outputs": [
        {
          "output_type": "execute_result",
          "data": {
            "text/plain": [
              "tensor(0.6045)"
            ]
          },
          "metadata": {},
          "execution_count": 22
        }
      ]
    },
    {
      "cell_type": "code",
      "metadata": {
        "colab": {
          "base_uri": "https://localhost:8080/"
        },
        "id": "InFuCvwI-MbP",
        "outputId": "678e7608-fbb1-4ce9-d1a6-8a0b11927db2"
      },
      "source": [
        "torch.eq(x,y)"
      ],
      "execution_count": null,
      "outputs": [
        {
          "output_type": "execute_result",
          "data": {
            "text/plain": [
              "tensor([False, False, False])"
            ]
          },
          "metadata": {},
          "execution_count": 23
        }
      ]
    },
    {
      "cell_type": "code",
      "metadata": {
        "colab": {
          "base_uri": "https://localhost:8080/"
        },
        "id": "bXqVY9lmSgif",
        "outputId": "8f0cbef0-e8a9-4eef-f848-7b26ab2b2b63"
      },
      "source": [
        "torch.sort(x)  # return sorted values , and indices"
      ],
      "execution_count": null,
      "outputs": [
        {
          "output_type": "execute_result",
          "data": {
            "text/plain": [
              "torch.return_types.sort(values=tensor([10, 14, 18]), indices=tensor([0, 1, 2]))"
            ]
          },
          "metadata": {},
          "execution_count": 24
        }
      ]
    },
    {
      "cell_type": "code",
      "metadata": {
        "colab": {
          "base_uri": "https://localhost:8080/"
        },
        "id": "0Gt1LxAxSqpy",
        "outputId": "fe92248d-f063-4af2-a588-35f785bcbf16"
      },
      "source": [
        "# if values less than zero then it will put that 0\n",
        "torch.clamp(x,min=0)"
      ],
      "execution_count": null,
      "outputs": [
        {
          "output_type": "execute_result",
          "data": {
            "text/plain": [
              "tensor([10, 14, 18])"
            ]
          },
          "metadata": {},
          "execution_count": 26
        }
      ]
    },
    {
      "cell_type": "code",
      "metadata": {
        "colab": {
          "base_uri": "https://localhost:8080/"
        },
        "id": "y6hnLEurS-nR",
        "outputId": "ecfb1c35-b3ee-4c6a-f7e1-3b456eef05ef"
      },
      "source": [
        "# relu is a special value of clamp\n",
        "torch.clamp(x,min=13)"
      ],
      "execution_count": null,
      "outputs": [
        {
          "output_type": "execute_result",
          "data": {
            "text/plain": [
              "tensor([13, 14, 18])"
            ]
          },
          "metadata": {},
          "execution_count": 27
        }
      ]
    },
    {
      "cell_type": "code",
      "metadata": {
        "colab": {
          "base_uri": "https://localhost:8080/"
        },
        "id": "mkiUF0ugTLBk",
        "outputId": "55a4d83c-af28-44d7-c896-bf5923b24266"
      },
      "source": [
        "# any value 1\n",
        "# all values 1 \n",
        "torch.any(x)"
      ],
      "execution_count": null,
      "outputs": [
        {
          "output_type": "execute_result",
          "data": {
            "text/plain": [
              "tensor(True)"
            ]
          },
          "metadata": {},
          "execution_count": 28
        }
      ]
    },
    {
      "cell_type": "code",
      "metadata": {
        "colab": {
          "base_uri": "https://localhost:8080/"
        },
        "id": "lm7Rx71MTcJr",
        "outputId": "5cc69525-9421-4a65-d573-03124ae91e6a"
      },
      "source": [
        "torch.all(x)"
      ],
      "execution_count": null,
      "outputs": [
        {
          "output_type": "execute_result",
          "data": {
            "text/plain": [
              "tensor(True)"
            ]
          },
          "metadata": {},
          "execution_count": 29
        }
      ]
    },
    {
      "cell_type": "code",
      "metadata": {
        "colab": {
          "base_uri": "https://localhost:8080/"
        },
        "id": "acZs5bJ_TeGp",
        "outputId": "fd1e8d9e-f8c9-4803-d35d-27b90cd68374"
      },
      "source": [
        "# Indexing in the tensor \n",
        "\n",
        "batch = 10\n",
        "features = 25\n",
        "x = torch.rand(size=(batch,features))\n",
        "#print(x)\n",
        "# rows , cols\n",
        "# x[start:stop:step,start:stop:step]\n",
        "print(x[0,10:])\n",
        "print(x[:,0])\n",
        "print(x[0:2,0:2])\n",
        "x[0,0] = 1000\n"
      ],
      "execution_count": null,
      "outputs": [
        {
          "output_type": "stream",
          "name": "stdout",
          "text": [
            "tensor([0.9016, 0.7278, 0.8068, 0.4291, 0.0132, 0.4544, 0.3469, 0.1188, 0.9456,\n",
            "        0.6282, 0.5532, 0.7360, 0.6369, 0.7653, 0.6158])\n",
            "tensor([0.7568, 0.3038, 0.1760, 0.7897, 0.7653, 0.3336, 0.6823, 0.1100, 0.9755,\n",
            "        0.8183])\n",
            "tensor([[0.7568, 0.6877],\n",
            "        [0.3038, 0.2388]])\n"
          ]
        },
        {
          "output_type": "execute_result",
          "data": {
            "text/plain": [
              "tensor([[1.0000e+03, 6.8765e-01, 4.1086e-01, 6.4282e-01, 6.7555e-01, 1.8083e-01,\n",
              "         7.7711e-01, 5.2241e-01, 3.2136e-01, 9.4001e-01, 9.0156e-01, 7.2784e-01,\n",
              "         8.0675e-01, 4.2912e-01, 1.3198e-02, 4.5435e-01, 3.4687e-01, 1.1882e-01,\n",
              "         9.4559e-01, 6.2821e-01, 5.5317e-01, 7.3601e-01, 6.3690e-01, 7.6527e-01,\n",
              "         6.1582e-01],\n",
              "        [3.0380e-01, 2.3876e-01, 1.9746e-01, 9.8132e-02, 8.5306e-02, 8.7092e-01,\n",
              "         4.6283e-01, 7.4097e-01, 3.1838e-01, 9.4429e-01, 8.4652e-01, 8.5745e-02,\n",
              "         4.7379e-01, 7.5662e-01, 6.8196e-01, 7.9146e-01, 5.4373e-01, 8.7706e-01,\n",
              "         5.6335e-01, 4.0479e-01, 1.2855e-01, 6.9984e-01, 4.2106e-01, 1.5898e-01,\n",
              "         7.2535e-01],\n",
              "        [1.7603e-01, 3.2973e-01, 3.8628e-01, 5.2676e-01, 8.7118e-01, 5.2162e-01,\n",
              "         9.7718e-01, 9.9805e-01, 1.2840e-01, 5.5083e-01, 8.7203e-01, 4.8735e-01,\n",
              "         8.3252e-01, 3.5506e-01, 7.1784e-01, 3.6339e-01, 4.0818e-01, 9.8807e-01,\n",
              "         8.5299e-01, 7.5678e-01, 2.5481e-01, 8.1315e-01, 2.6594e-01, 8.4691e-01,\n",
              "         1.8197e-01],\n",
              "        [7.8969e-01, 4.2122e-01, 2.6198e-01, 5.5744e-01, 6.5003e-01, 9.3402e-01,\n",
              "         8.7964e-01, 1.6284e-01, 4.4902e-01, 9.8444e-01, 7.2809e-01, 9.1375e-01,\n",
              "         4.8631e-01, 6.5709e-02, 9.5791e-01, 3.0020e-01, 1.6001e-01, 3.2632e-02,\n",
              "         4.9656e-01, 3.9671e-01, 8.8943e-01, 9.5458e-01, 3.6748e-01, 3.9087e-01,\n",
              "         7.3502e-01],\n",
              "        [7.6533e-01, 9.6989e-01, 3.7878e-01, 1.7712e-01, 2.0305e-01, 8.8324e-01,\n",
              "         9.9679e-01, 6.5916e-01, 1.9758e-01, 1.3313e-01, 6.4648e-01, 3.7911e-01,\n",
              "         8.3495e-01, 3.4735e-01, 5.4794e-01, 9.9760e-01, 4.9977e-01, 6.1109e-01,\n",
              "         7.7854e-01, 8.6393e-01, 9.3995e-01, 2.1161e-01, 3.3282e-01, 6.8736e-01,\n",
              "         8.9557e-02],\n",
              "        [3.3359e-01, 5.5938e-01, 7.2707e-02, 2.0388e-01, 6.3248e-01, 4.2305e-01,\n",
              "         6.0362e-01, 5.0685e-01, 8.9754e-01, 2.9157e-02, 5.4480e-01, 6.9711e-01,\n",
              "         6.0908e-03, 7.8489e-02, 2.6594e-01, 1.3731e-01, 4.0076e-01, 9.4717e-01,\n",
              "         9.5810e-01, 2.7775e-01, 6.0794e-01, 6.5912e-01, 8.1720e-01, 1.7941e-01,\n",
              "         6.1881e-01],\n",
              "        [6.8232e-01, 3.6974e-01, 5.7718e-01, 2.0896e-01, 1.7136e-01, 2.3295e-01,\n",
              "         1.8935e-01, 3.8334e-02, 7.4799e-01, 4.2969e-01, 1.9316e-01, 1.0633e-01,\n",
              "         8.1717e-01, 3.8525e-01, 4.4862e-01, 2.8734e-01, 5.5720e-02, 5.7281e-01,\n",
              "         4.1340e-01, 9.9506e-01, 9.3910e-01, 3.3710e-01, 8.4987e-01, 2.0576e-01,\n",
              "         4.3402e-01],\n",
              "        [1.1004e-01, 7.2397e-01, 9.6118e-01, 7.8463e-01, 9.5924e-01, 2.0169e-01,\n",
              "         2.4390e-01, 4.6999e-01, 6.1772e-01, 2.7396e-01, 1.9969e-01, 4.7818e-01,\n",
              "         5.9217e-01, 7.2758e-01, 8.4846e-01, 1.3114e-01, 7.3579e-01, 8.5518e-01,\n",
              "         7.0267e-01, 4.2981e-01, 2.8407e-01, 2.0669e-01, 8.1264e-02, 1.5301e-01,\n",
              "         8.8538e-01],\n",
              "        [9.7548e-01, 9.6401e-01, 7.1069e-01, 5.2387e-02, 3.8783e-01, 2.6981e-01,\n",
              "         5.6772e-01, 5.1214e-01, 6.2787e-02, 6.2451e-01, 9.2865e-01, 6.2870e-01,\n",
              "         4.6396e-01, 8.6524e-01, 3.0389e-02, 6.0058e-01, 7.8460e-01, 9.4873e-01,\n",
              "         9.2962e-01, 1.3671e-01, 9.5805e-01, 1.4695e-01, 9.0482e-01, 5.6845e-01,\n",
              "         6.0559e-01],\n",
              "        [8.1825e-01, 3.3328e-01, 3.4908e-01, 7.6828e-01, 8.6484e-01, 9.2799e-01,\n",
              "         9.9299e-01, 1.8868e-01, 2.2451e-01, 4.5391e-01, 2.3079e-01, 1.6529e-01,\n",
              "         7.4991e-01, 6.7344e-01, 2.2917e-01, 3.6443e-01, 4.7340e-01, 2.5413e-01,\n",
              "         2.4177e-01, 7.5413e-01, 7.1796e-01, 7.0347e-01, 1.0468e-01, 5.9729e-01,\n",
              "         8.8242e-01]])"
            ]
          },
          "metadata": {},
          "execution_count": 40
        }
      ]
    },
    {
      "cell_type": "code",
      "metadata": {
        "colab": {
          "base_uri": "https://localhost:8080/"
        },
        "id": "dRIzYKcqUgmB",
        "outputId": "41abde3e-719d-4e4e-c0b1-cbfbca8f74ec"
      },
      "source": [
        "# Advanced Indexing \n",
        "#x[(x>11 )| (x<15)]\n",
        "print(x[x.remainder(2)==0])\n",
        "print(x.unique()[:5])\n",
        "print(torch.where(x<5 ,0 , 1 )[:1,:1]) # where x, y\n",
        "print(x.ndimension()) # gives dim\n",
        "print(x.numel())  # count number of elements in x"
      ],
      "execution_count": null,
      "outputs": [
        {
          "output_type": "stream",
          "name": "stdout",
          "text": [
            "tensor([1000.])\n",
            "tensor([0.0061, 0.0132, 0.0292, 0.0304, 0.0326])\n",
            "tensor([[1]])\n",
            "2\n",
            "250\n"
          ]
        }
      ]
    },
    {
      "cell_type": "code",
      "metadata": {
        "colab": {
          "base_uri": "https://localhost:8080/"
        },
        "id": "z3GJEpw1XTdb",
        "outputId": "cb4e0ac5-b30a-4664-efc8-fd4cb0feff9d"
      },
      "source": [
        "# Reshaping of Tensor\n",
        "x = torch.arange(9)\n",
        "print(x)\n",
        "print(x.view(3,3))    # continous data to reshape\n",
        "print(x.reshape(3,3)) # reshape any kind of data \n",
        "print(x.reshape(3,3).t()) # traspose of values\n",
        "\n",
        "# concatination\n",
        "x1 = torch.rand((2,5))\n",
        "x2 = torch.rand((2,5))\n",
        "\n",
        "print(torch.cat((x1,x2),dim=1)) # dim 0  add rows , dim 1 add cols \n",
        "\n",
        "\n",
        "# Flatten tensor\n",
        "print(x1.shape)\n",
        "x1.view(-1).shape\n",
        "\n",
        "# batch Flatten\n",
        "batch = 16\n",
        "torch.rand((batch,2,5)).view((batch,-1))\n",
        "\n",
        "# Reshape manually \n",
        "x1.permute(1,0)  # index position of dimen\n",
        "\n"
      ],
      "execution_count": null,
      "outputs": [
        {
          "output_type": "stream",
          "name": "stdout",
          "text": [
            "tensor([0, 1, 2, 3, 4, 5, 6, 7, 8])\n",
            "tensor([[0, 1, 2],\n",
            "        [3, 4, 5],\n",
            "        [6, 7, 8]])\n",
            "tensor([[0, 1, 2],\n",
            "        [3, 4, 5],\n",
            "        [6, 7, 8]])\n",
            "tensor([[0, 3, 6],\n",
            "        [1, 4, 7],\n",
            "        [2, 5, 8]])\n",
            "tensor([[0.3794, 0.2874, 0.0957, 0.0898, 0.6790, 0.8288, 0.6315, 0.5135, 0.6290,\n",
            "         0.4043],\n",
            "        [0.2715, 0.9132, 0.0567, 0.4575, 0.8356, 0.9800, 0.9969, 0.1976, 0.9927,\n",
            "         0.8371]])\n",
            "torch.Size([2, 5])\n"
          ]
        },
        {
          "output_type": "execute_result",
          "data": {
            "text/plain": [
              "tensor([[0.3794, 0.2715],\n",
              "        [0.2874, 0.9132],\n",
              "        [0.0957, 0.0567],\n",
              "        [0.0898, 0.4575],\n",
              "        [0.6790, 0.8356]])"
            ]
          },
          "metadata": {},
          "execution_count": 81
        }
      ]
    },
    {
      "cell_type": "code",
      "metadata": {
        "id": "6A7iclF6YH_2"
      },
      "source": [
        ""
      ],
      "execution_count": null,
      "outputs": []
    },
    {
      "cell_type": "code",
      "metadata": {
        "colab": {
          "base_uri": "https://localhost:8080/"
        },
        "id": "Ukmw3xPEYOWl",
        "outputId": "2de9e036-d58e-47b7-d596-8b3f8abae6df"
      },
      "source": [
        ""
      ],
      "execution_count": null,
      "outputs": [
        {
          "output_type": "execute_result",
          "data": {
            "text/plain": [
              "2"
            ]
          },
          "metadata": {},
          "execution_count": 56
        }
      ]
    },
    {
      "cell_type": "code",
      "metadata": {
        "id": "DjFTLPW4Ymz1"
      },
      "source": [
        ""
      ],
      "execution_count": null,
      "outputs": []
    }
  ]
}
