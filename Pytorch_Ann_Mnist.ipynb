{
  "nbformat": 4,
  "nbformat_minor": 0,
  "metadata": {
    "colab": {
      "name": "Pytorch_Ann_Mnist.ipynb",
      "provenance": [],
      "collapsed_sections": []
    },
    "kernelspec": {
      "name": "python3",
      "display_name": "Python 3"
    },
    "language_info": {
      "name": "python"
    }
  },
  "cells": [
    {
      "cell_type": "code",
      "metadata": {
        "colab": {
          "base_uri": "https://localhost:8080/"
        },
        "id": "_F_lbEQDGppJ",
        "outputId": "17a3d253-71b8-4717-ad01-d297870dc89e"
      },
      "source": [
        "import os \n",
        "os.chdir('/content/drive/MyDrive/DeepLearningColab/Pytorch_Basics')\n",
        "!pwd"
      ],
      "execution_count": null,
      "outputs": [
        {
          "output_type": "stream",
          "name": "stdout",
          "text": [
            "/content/drive/MyDrive/DeepLearningColab/Pytorch_Basics\n"
          ]
        }
      ]
    },
    {
      "cell_type": "code",
      "metadata": {
        "id": "OrIjWa5OqsQO"
      },
      "source": [
        "import matplotlib.pyplot as plt\n",
        "import numpy as np \n",
        "import pandas as pd\n",
        "import torch \n",
        "import torch.nn as nn \n",
        "from torchvision import transforms,datasets \n",
        "from torch.utils.data import DataLoader\n",
        "from sklearn.metrics import confusion_matrix,classification_report\n",
        "\n",
        "plt.style.use('fivethirtyeight')"
      ],
      "execution_count": null,
      "outputs": []
    },
    {
      "cell_type": "code",
      "metadata": {
        "id": "r3_uXTfkFThL"
      },
      "source": [
        "# Load Data \n",
        "train_data = datasets.MNIST(\n",
        "    root = 'Mnist_data',\n",
        "    train = True,\n",
        "    transform = transforms.ToTensor(),\n",
        "    target_transform = None,\n",
        "    download = True\n",
        ")\n",
        "\n",
        "test_data = datasets.MNIST(\n",
        "    root = 'Mnist_data',\n",
        "    train = False,\n",
        "    transform = transforms.ToTensor(),\n",
        "    target_transform = None,\n",
        "    download = True\n",
        ")"
      ],
      "execution_count": null,
      "outputs": []
    },
    {
      "cell_type": "code",
      "metadata": {
        "colab": {
          "base_uri": "https://localhost:8080/"
        },
        "id": "NCbK1rNoGpEC",
        "outputId": "c817a41d-901e-4a7f-f440-d2ea6b15f58d"
      },
      "source": [
        "# Check Dataset \n",
        "train_data.data[0:2]"
      ],
      "execution_count": null,
      "outputs": [
        {
          "output_type": "execute_result",
          "data": {
            "text/plain": [
              "tensor([[[0, 0, 0,  ..., 0, 0, 0],\n",
              "         [0, 0, 0,  ..., 0, 0, 0],\n",
              "         [0, 0, 0,  ..., 0, 0, 0],\n",
              "         ...,\n",
              "         [0, 0, 0,  ..., 0, 0, 0],\n",
              "         [0, 0, 0,  ..., 0, 0, 0],\n",
              "         [0, 0, 0,  ..., 0, 0, 0]],\n",
              "\n",
              "        [[0, 0, 0,  ..., 0, 0, 0],\n",
              "         [0, 0, 0,  ..., 0, 0, 0],\n",
              "         [0, 0, 0,  ..., 0, 0, 0],\n",
              "         ...,\n",
              "         [0, 0, 0,  ..., 0, 0, 0],\n",
              "         [0, 0, 0,  ..., 0, 0, 0],\n",
              "         [0, 0, 0,  ..., 0, 0, 0]]], dtype=torch.uint8)"
            ]
          },
          "metadata": {},
          "execution_count": 5
        }
      ]
    },
    {
      "cell_type": "code",
      "metadata": {
        "colab": {
          "base_uri": "https://localhost:8080/"
        },
        "id": "7e6exL0PI_RW",
        "outputId": "f16b0932-fffd-437c-8226-6a79b7d9adfb"
      },
      "source": [
        "train_data.targets"
      ],
      "execution_count": null,
      "outputs": [
        {
          "output_type": "execute_result",
          "data": {
            "text/plain": [
              "tensor([5, 0, 4,  ..., 5, 6, 8])"
            ]
          },
          "metadata": {},
          "execution_count": 6
        }
      ]
    },
    {
      "cell_type": "code",
      "metadata": {
        "colab": {
          "base_uri": "https://localhost:8080/"
        },
        "id": "cXNlh1VUJNGK",
        "outputId": "a7cb4b62-e046-4e5a-9038-82902482ce4c"
      },
      "source": [
        "train_data.data.shape"
      ],
      "execution_count": null,
      "outputs": [
        {
          "output_type": "execute_result",
          "data": {
            "text/plain": [
              "torch.Size([60000, 28, 28])"
            ]
          },
          "metadata": {},
          "execution_count": 7
        }
      ]
    },
    {
      "cell_type": "code",
      "metadata": {
        "colab": {
          "base_uri": "https://localhost:8080/"
        },
        "id": "9VsMsDYrJPtR",
        "outputId": "01b1cf21-8a5c-43ce-f07b-8ac6ea193d6c"
      },
      "source": [
        "test_data.data.shape"
      ],
      "execution_count": null,
      "outputs": [
        {
          "output_type": "execute_result",
          "data": {
            "text/plain": [
              "torch.Size([10000, 28, 28])"
            ]
          },
          "metadata": {},
          "execution_count": 8
        }
      ]
    },
    {
      "cell_type": "code",
      "metadata": {
        "colab": {
          "base_uri": "https://localhost:8080/",
          "height": 322
        },
        "id": "7SbYG7EKJZZD",
        "outputId": "4294133e-bacf-4d62-e6ab-ab3968615018"
      },
      "source": [
        "# Exploring Data\n",
        "plt.figure(figsize=(6,4))\n",
        "plt.imshow(train_data.data[0:1].reshape(28,28),cmap='gray')\n",
        "plt.xlabel('Label - '+ str(train_data.targets[0].item()))"
      ],
      "execution_count": null,
      "outputs": [
        {
          "output_type": "execute_result",
          "data": {
            "text/plain": [
              "Text(0.5, 0, 'Label - 5')"
            ]
          },
          "metadata": {},
          "execution_count": 9
        },
        {
          "output_type": "display_data",
          "data": {
            "image/png": "[encoded data removed]",
            "text/plain": [
              "<Figure size 432x288 with 1 Axes>"
            ]
          },
          "metadata": {}
        }
      ]
    },
    {
      "cell_type": "code",
      "metadata": {
        "colab": {
          "base_uri": "https://localhost:8080/"
        },
        "id": "udONCAqILbBB",
        "outputId": "03bddf33-a6df-43b9-cd22-304550250b51"
      },
      "source": [
        "# we need to normalize this Before using !\n",
        "train_data.data.max() "
      ],
      "execution_count": null,
      "outputs": [
        {
          "output_type": "execute_result",
          "data": {
            "text/plain": [
              "tensor(255, dtype=torch.uint8)"
            ]
          },
          "metadata": {},
          "execution_count": 10
        }
      ]
    },
    {
      "cell_type": "code",
      "metadata": {
        "colab": {
          "base_uri": "https://localhost:8080/",
          "height": 322
        },
        "id": "vGlnX4yVM6kU",
        "outputId": "26d1b197-ef55-409b-87ec-2a657cdc5302"
      },
      "source": [
        "# Normalized Data with torch.round\n",
        "plt.figure(figsize=(6,4))\n",
        "plt.imshow(torch.round(train_data.data[1]/255).reshape(28,28),cmap='gray')\n",
        "plt.xlabel('Label - '+ str(train_data.targets[1].item()))"
      ],
      "execution_count": null,
      "outputs": [
        {
          "output_type": "execute_result",
          "data": {
            "text/plain": [
              "Text(0.5, 0, 'Label - 0')"
            ]
          },
          "metadata": {},
          "execution_count": 11
        },
        {
          "output_type": "display_data",
          "data": {
            "image/png": "[encoded data removed]",
            "text/plain": [
              "<Figure size 432x288 with 1 Axes>"
            ]
          },
          "metadata": {}
        }
      ]
    },
    {
      "cell_type": "code",
      "metadata": {
        "id": "bycpsVPfNR-m"
      },
      "source": [
        "# Data Loader does : -\n",
        "# train_data --- reshape -- (samples,color,height,width)\n",
        "batch = 128\n",
        "train_data_loader = DataLoader(dataset=train_data,\n",
        "                               batch_size = batch,\n",
        "                               shuffle=True)\n",
        "\n",
        "test_data_loader = DataLoader(dataset=test_data,\n",
        "                               batch_size = batch)"
      ],
      "execution_count": null,
      "outputs": []
    },
    {
      "cell_type": "code",
      "metadata": {
        "colab": {
          "base_uri": "https://localhost:8080/"
        },
        "id": "odU6glttP1_q",
        "outputId": "2128d3f4-1887-4f6c-d77d-8218e4304853"
      },
      "source": [
        "for x in test_data_loader:\n",
        "  print(x[0].shape)\n",
        "  print(x[1].shape)\n",
        "  break"
      ],
      "execution_count": null,
      "outputs": [
        {
          "output_type": "stream",
          "name": "stdout",
          "text": [
            "torch.Size([128, 1, 28, 28])\n",
            "torch.Size([128])\n"
          ]
        }
      ]
    },
    {
      "cell_type": "code",
      "metadata": {
        "colab": {
          "base_uri": "https://localhost:8080/"
        },
        "id": "B65P_JXwa7KD",
        "outputId": "22d9b6ed-4aaf-4d2d-9a2b-69e2f09aeee6"
      },
      "source": [
        "# Lets Create Model \n",
        "device = 'cuda' if torch.cuda.is_available() else 'cpu'\n",
        "\n",
        "class Neural_network(nn.Module):\n",
        "  def __init__(self,input,output):\n",
        "    super(Neural_network,self).__init__()\n",
        "    self.layers = nn.Sequential(\n",
        "        nn.Linear(input,256),\n",
        "        nn.ReLU(),\n",
        "        nn.Linear(256,128),\n",
        "        nn.ReLU(),\n",
        "        nn.Linear(128,output))\n",
        "    \n",
        "  def forward(self,x):\n",
        "    return self.layers(x)\n",
        "\n",
        "model = Neural_network(784,10)\n",
        "model.to(device)\n",
        "model"
      ],
      "execution_count": null,
      "outputs": [
        {
          "output_type": "execute_result",
          "data": {
            "text/plain": [
              "Neural_network(\n",
              "  (layers): Sequential(\n",
              "    (0): Linear(in_features=784, out_features=256, bias=True)\n",
              "    (1): ReLU()\n",
              "    (2): Linear(in_features=256, out_features=128, bias=True)\n",
              "    (3): ReLU()\n",
              "    (4): Linear(in_features=128, out_features=10, bias=True)\n",
              "  )\n",
              ")"
            ]
          },
          "metadata": {},
          "execution_count": 14
        }
      ]
    },
    {
      "cell_type": "code",
      "metadata": {
        "id": "Pc1T_EP2u1M4"
      },
      "source": [
        "criterion = nn.CrossEntropyLoss()\n",
        "optimizer = torch.optim.Adam(model.parameters())"
      ],
      "execution_count": null,
      "outputs": []
    },
    {
      "cell_type": "code",
      "metadata": {
        "id": "Wl1P9RCMwNTc",
        "colab": {
          "base_uri": "https://localhost:8080/"
        },
        "outputId": "e3369986-359c-42c5-ad71-049397c6809b"
      },
      "source": [
        "n_epoch = 10\n",
        "loss_ = []\n",
        "acc_ = []\n",
        "\n",
        "for epoch in range(n_epoch):\n",
        "  print(f'Epoch {epoch+1}/{n_epoch} ')\n",
        "  for batch,data in enumerate(train_data_loader):\n",
        "    x = data[0].to(device)\n",
        "    y = data[1].to(device)\n",
        "    \n",
        "    optimizer.zero_grad()\n",
        "\n",
        "    y_pred = model(x.reshape(-1,784))\n",
        "    loss = criterion(y_pred,y)\n",
        "    loss_.append(loss.item())\n",
        "    loss.backward()\n",
        "    optimizer.step()\n",
        "    \n",
        "    accuracy = torch.mean((torch.argmax(y_pred,1) == y).float()).item()\n",
        "    acc_.append(accuracy)\n",
        "\n",
        "    if batch%100 == 0:\n",
        "      print(f'   Batch {batch} Loss {loss.item():.4f} Accuracy {accuracy:.4f}')"
      ],
      "execution_count": null,
      "outputs": [
        {
          "output_type": "stream",
          "name": "stdout",
          "text": [
            "Epoch 1/10 \n",
            "   Batch 0 Loss 2.3069 Accuracy 0.1094\n",
            "   Batch 100 Loss 0.2960 Accuracy 0.9219\n",
            "   Batch 200 Loss 0.2423 Accuracy 0.9453\n",
            "   Batch 300 Loss 0.3313 Accuracy 0.8984\n",
            "   Batch 400 Loss 0.2446 Accuracy 0.9375\n",
            "Epoch 2/10 \n",
            "   Batch 0 Loss 0.2258 Accuracy 0.9297\n",
            "   Batch 100 Loss 0.1401 Accuracy 0.9609\n",
            "   Batch 200 Loss 0.0634 Accuracy 0.9922\n",
            "   Batch 300 Loss 0.1724 Accuracy 0.9609\n",
            "   Batch 400 Loss 0.1118 Accuracy 0.9688\n",
            "Epoch 3/10 \n",
            "   Batch 0 Loss 0.0964 Accuracy 0.9844\n",
            "   Batch 100 Loss 0.0776 Accuracy 0.9766\n",
            "   Batch 200 Loss 0.1290 Accuracy 0.9453\n",
            "   Batch 300 Loss 0.0508 Accuracy 0.9766\n",
            "   Batch 400 Loss 0.0345 Accuracy 0.9922\n",
            "Epoch 4/10 \n",
            "   Batch 0 Loss 0.0480 Accuracy 0.9922\n",
            "   Batch 100 Loss 0.0858 Accuracy 0.9688\n",
            "   Batch 200 Loss 0.0550 Accuracy 0.9844\n",
            "   Batch 300 Loss 0.0615 Accuracy 0.9766\n",
            "   Batch 400 Loss 0.0681 Accuracy 0.9766\n",
            "Epoch 5/10 \n",
            "   Batch 0 Loss 0.0298 Accuracy 0.9922\n",
            "   Batch 100 Loss 0.0150 Accuracy 0.9922\n",
            "   Batch 200 Loss 0.0768 Accuracy 0.9688\n",
            "   Batch 300 Loss 0.0704 Accuracy 0.9844\n",
            "   Batch 400 Loss 0.0783 Accuracy 0.9688\n",
            "Epoch 6/10 \n",
            "   Batch 0 Loss 0.0720 Accuracy 0.9766\n",
            "   Batch 100 Loss 0.0499 Accuracy 0.9844\n",
            "   Batch 200 Loss 0.0317 Accuracy 0.9844\n",
            "   Batch 300 Loss 0.0221 Accuracy 0.9922\n",
            "   Batch 400 Loss 0.0152 Accuracy 0.9922\n",
            "Epoch 7/10 \n",
            "   Batch 0 Loss 0.0422 Accuracy 0.9844\n",
            "   Batch 100 Loss 0.0834 Accuracy 0.9688\n",
            "   Batch 200 Loss 0.0231 Accuracy 0.9922\n",
            "   Batch 300 Loss 0.0213 Accuracy 0.9844\n",
            "   Batch 400 Loss 0.0205 Accuracy 0.9922\n",
            "Epoch 8/10 \n",
            "   Batch 0 Loss 0.0149 Accuracy 1.0000\n",
            "   Batch 100 Loss 0.0058 Accuracy 1.0000\n",
            "   Batch 200 Loss 0.0154 Accuracy 1.0000\n",
            "   Batch 300 Loss 0.0324 Accuracy 0.9922\n",
            "   Batch 400 Loss 0.0505 Accuracy 0.9922\n",
            "Epoch 9/10 \n",
            "   Batch 0 Loss 0.0119 Accuracy 0.9922\n",
            "   Batch 100 Loss 0.0047 Accuracy 1.0000\n",
            "   Batch 200 Loss 0.0148 Accuracy 0.9922\n",
            "   Batch 300 Loss 0.0202 Accuracy 0.9922\n",
            "   Batch 400 Loss 0.0541 Accuracy 0.9922\n",
            "Epoch 10/10 \n",
            "   Batch 0 Loss 0.0072 Accuracy 1.0000\n",
            "   Batch 100 Loss 0.0088 Accuracy 1.0000\n",
            "   Batch 200 Loss 0.0014 Accuracy 1.0000\n",
            "   Batch 300 Loss 0.0085 Accuracy 1.0000\n",
            "   Batch 400 Loss 0.0022 Accuracy 1.0000\n"
          ]
        }
      ]
    },
    {
      "cell_type": "code",
      "metadata": {
        "colab": {
          "base_uri": "https://localhost:8080/",
          "height": 299
        },
        "id": "8_SdnAEG8cbe",
        "outputId": "11a9adf8-9e09-43f5-c300-f2b31777b4a8"
      },
      "source": [
        "# Only For Train acc and loss \n",
        "pd.DataFrame(data={'Loss':loss_,'Accuracy':acc_}).plot()"
      ],
      "execution_count": null,
      "outputs": [
        {
          "output_type": "execute_result",
          "data": {
            "text/plain": [
              "<matplotlib.axes._subplots.AxesSubplot at 0x7f39e786ef50>"
            ]
          },
          "metadata": {},
          "execution_count": 17
        },
        {
          "output_type": "display_data",
          "data": {
            "image/png": "[encoded data removed]",
            "text/plain": [
              "<Figure size 432x288 with 1 Axes>"
            ]
          },
          "metadata": {}
        }
      ]
    },
    {
      "cell_type": "code",
      "metadata": {
        "id": "8hzhye4s-6tO"
      },
      "source": [
        "# Let's test \n",
        "test_loss = 0\n",
        "test_accuracy = 0\n",
        "with torch.no_grad():\n",
        "  for batch,data in enumerate(test_data_loader):\n",
        "    x = data[0].to(device)\n",
        "    y = data[1].to(device)\n",
        "\n",
        "    y_pred = model(x.reshape(-1,784))\n",
        "    loss = criterion(y_pred,y)\n",
        "    test_loss += loss.item()\n",
        "    test_accuracy += torch.mean((torch.argmax(y_pred,1) == y).float()).item()\n",
        "    batch+=1\n",
        "\n"
      ],
      "execution_count": null,
      "outputs": []
    },
    {
      "cell_type": "code",
      "metadata": {
        "colab": {
          "base_uri": "https://localhost:8080/"
        },
        "id": "5QUcOk02CDV-",
        "outputId": "aa99b30c-c86e-4a3d-f221-6aa7e23ec0e0"
      },
      "source": [
        "print(f'Test Loss : {test_loss/batch:.4f} Test_accuracy : {test_accuracy/batch:.4f}')"
      ],
      "execution_count": null,
      "outputs": [
        {
          "output_type": "stream",
          "name": "stdout",
          "text": [
            "Test Loss : 0.0920 Test_accuracy : 0.9771\n"
          ]
        }
      ]
    },
    {
      "cell_type": "code",
      "metadata": {
        "id": "pQ0-q-9WCyXZ"
      },
      "source": [
        "# Confusion Matrix\n",
        "pred = np.array([])\n",
        "target = np.array([])\n",
        "with torch.no_grad():\n",
        "  for batch,data in enumerate(test_data_loader):\n",
        "    x = data[0].to(device)\n",
        "    y = data[1].to(device)\n",
        "\n",
        "    y_pred = model(x.reshape(-1,784))\n",
        "    loss = criterion(y_pred,y)\n",
        "\n",
        "    pred = np.concatenate((pred,torch.argmax(y_pred,1).cpu().numpy()))\n",
        "    target = np.concatenate((target,y.cpu().numpy()))"
      ],
      "execution_count": null,
      "outputs": []
    },
    {
      "cell_type": "code",
      "metadata": {
        "colab": {
          "base_uri": "https://localhost:8080/"
        },
        "id": "SHM8XtrmhdDB",
        "outputId": "f069ab1e-0c80-4e9a-e5fe-59f19f1c8c27"
      },
      "source": [
        "confusion_matrix(target,pred)"
      ],
      "execution_count": null,
      "outputs": [
        {
          "output_type": "execute_result",
          "data": {
            "text/plain": [
              "array([[ 969,    0,    1,    1,    0,    1,    3,    0,    3,    2],\n",
              "       [   0, 1125,    2,    1,    0,    0,    3,    0,    4,    0],\n",
              "       [   4,    2, 1006,    1,    1,    0,    2,    7,    9,    0],\n",
              "       [   0,    0,    3,  992,    0,    3,    0,    1,    5,    6],\n",
              "       [   1,    0,    4,    0,  942,    1,    9,    2,    5,   18],\n",
              "       [   2,    0,    0,   14,    1,  864,    2,    1,    6,    2],\n",
              "       [   6,    2,    1,    1,    1,    4,  942,    0,    1,    0],\n",
              "       [   1,    3,   10,    3,    1,    0,    0,  983,    3,   24],\n",
              "       [   2,    0,    2,    3,    1,    1,    1,    2,  955,    7],\n",
              "       [   2,    2,    0,    3,    4,    3,    2,    0,    3,  990]])"
            ]
          },
          "metadata": {},
          "execution_count": 21
        }
      ]
    },
    {
      "cell_type": "code",
      "metadata": {
        "id": "ujErWQvLuG94"
      },
      "source": [
        ""
      ],
      "execution_count": null,
      "outputs": []
    }
  ]
}