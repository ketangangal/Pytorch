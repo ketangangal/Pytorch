{
 "cells": [
  {
   "cell_type": "code",
   "execution_count": 25,
   "id": "87fbf727",
   "metadata": {},
   "outputs": [],
   "source": [
    "import torch \n",
    "import torch.nn as nn\n",
    "from torchvision import datasets, transforms\n",
    "from torch.utils.data import DataLoader, Dataset\n",
    "import matplotlib.pyplot as plt \n",
    "import numpy as np\n",
    "import pandas as pd"
   ]
  },
  {
   "cell_type": "markdown",
   "id": "c6e59079",
   "metadata": {},
   "source": [
    "###  Structured Data"
   ]
  },
  {
   "cell_type": "code",
   "execution_count": 37,
   "id": "402fca5f",
   "metadata": {},
   "outputs": [
    {
     "name": "stdout",
     "output_type": "stream",
     "text": [
      "150\n"
     ]
    }
   ],
   "source": [
    "class Iris(Dataset):\n",
    "    def __init__(self):\n",
    "        self.df = pd.read_csv('iris.csv')\n",
    "        self.x = torch.from_numpy(self.df.drop('species',axis=1).to_numpy())\n",
    "        self.y = torch.from_numpy(self.df['species'].replace({'setosa':0,'versicolor':1,'virginica':2}).to_numpy())\n",
    "        self.n_sample = self.df.shape[0]\n",
    "\n",
    "    def __getitem__(self, index):\n",
    "        return self.x[index],self.y[index]\n",
    "    \n",
    "    def __len__(self):\n",
    "        return self.n_sample\n",
    "    \n",
    "\n",
    "train_data = Iris()\n",
    "print(len(train_data))\n"
   ]
  },
  {
   "cell_type": "code",
   "execution_count": 38,
   "id": "2a2e6615",
   "metadata": {},
   "outputs": [],
   "source": [
    "loader = DataLoader(train_data,batch_size=4)"
   ]
  },
  {
   "cell_type": "code",
   "execution_count": 39,
   "id": "5865e195",
   "metadata": {},
   "outputs": [
    {
     "name": "stdout",
     "output_type": "stream",
     "text": [
      "[tensor([[5.1000, 3.5000, 1.4000, 0.2000],\n",
      "        [4.9000, 3.0000, 1.4000, 0.2000],\n",
      "        [4.7000, 3.2000, 1.3000, 0.2000],\n",
      "        [4.6000, 3.1000, 1.5000, 0.2000]], dtype=torch.float64), tensor([0, 0, 0, 0])]\n"
     ]
    }
   ],
   "source": [
    "# Un-shuffeld\n",
    "for i in loader:\n",
    "    print(i)\n",
    "    break"
   ]
  },
  {
   "cell_type": "code",
   "execution_count": 40,
   "id": "d7c9466e",
   "metadata": {},
   "outputs": [
    {
     "name": "stdout",
     "output_type": "stream",
     "text": [
      "[tensor([[4.9000, 2.4000, 3.3000, 1.0000],\n",
      "        [7.2000, 3.6000, 6.1000, 2.5000],\n",
      "        [5.1000, 3.5000, 1.4000, 0.2000],\n",
      "        [4.8000, 3.0000, 1.4000, 0.3000]], dtype=torch.float64), tensor([1, 2, 0, 0])]\n"
     ]
    }
   ],
   "source": [
    "# Shuffeld Data \n",
    "loader = DataLoader(train_data,batch_size=4,shuffle = True)\n",
    "for i in loader:\n",
    "    print(i)\n",
    "    break"
   ]
  },
  {
   "cell_type": "markdown",
   "id": "37931c7e",
   "metadata": {},
   "source": [
    "# Unstructured Data Loading"
   ]
  },
  {
   "cell_type": "code",
   "execution_count": 13,
   "id": "8dd1097c",
   "metadata": {},
   "outputs": [],
   "source": [
    "# Folder Structure Should be \n",
    "\n",
    " # Data \n",
    "        # train \n",
    "             # Class1\n",
    "             # Class2 .....\n",
    "        # Validation \n",
    "             # Class1\n",
    "             # Class2 .....\n",
    "                \n",
    "                \n",
    "train_path = 'Data/train'\n",
    "test_path = 'Data/validation'\n",
    "\n",
    "mean = [0.5,0.5,0.5]\n",
    "std = [0.5,0.5,0.5]\n",
    "\n",
    "train_transform = transforms.Compose([\n",
    "    transforms.Resize((50,50)),\n",
    "    transforms.ToTensor(),\n",
    "    transforms.Normalize(torch.Tensor(mean),torch.Tensor(std))\n",
    "])\n",
    "\n",
    "test_transform = transforms.Compose([\n",
    "    transforms.Resize((50,50)),\n",
    "    transforms.ToTensor(),\n",
    "    transforms.Normalize(torch.Tensor(mean),torch.Tensor(std))\n",
    "])\n"
   ]
  },
  {
   "cell_type": "code",
   "execution_count": 14,
   "id": "7cf56f86",
   "metadata": {},
   "outputs": [],
   "source": [
    "train_data = datasets.ImageFolder(root=train_path,transform=train_transform)"
   ]
  },
  {
   "cell_type": "code",
   "execution_count": 15,
   "id": "8c19aae8",
   "metadata": {},
   "outputs": [],
   "source": [
    "train_data_loader = DataLoader(train_data,batch_size=32,shuffle=True)"
   ]
  },
  {
   "cell_type": "code",
   "execution_count": 16,
   "id": "eeaf682b",
   "metadata": {},
   "outputs": [],
   "source": [
    "data = next(iter(train_data_loader))"
   ]
  },
  {
   "cell_type": "code",
   "execution_count": 23,
   "id": "8892330c",
   "metadata": {},
   "outputs": [
    {
     "data": {
      "text/plain": [
       "torch.Size([32, 3, 50, 50])"
      ]
     },
     "execution_count": 23,
     "metadata": {},
     "output_type": "execute_result"
    }
   ],
   "source": [
    "data[0].shape"
   ]
  },
  {
   "cell_type": "code",
   "execution_count": 24,
   "id": "064ead2a",
   "metadata": {},
   "outputs": [
    {
     "data": {
      "text/plain": [
       "torch.Size([32])"
      ]
     },
     "execution_count": 24,
     "metadata": {},
     "output_type": "execute_result"
    }
   ],
   "source": [
    "data[1].shape"
   ]
  },
  {
   "cell_type": "code",
   "execution_count": null,
   "id": "17c1376b",
   "metadata": {},
   "outputs": [],
   "source": []
  }
 ],
 "metadata": {
  "kernelspec": {
   "display_name": "Python 3",
   "language": "python",
   "name": "python3"
  },
  "language_info": {
   "codemirror_mode": {
    "name": "ipython",
    "version": 3
   },
   "file_extension": ".py",
   "mimetype": "text/x-python",
   "name": "python",
   "nbconvert_exporter": "python",
   "pygments_lexer": "ipython3",
   "version": "3.8.8"
  }
 },
 "nbformat": 4,
 "nbformat_minor": 5
}
