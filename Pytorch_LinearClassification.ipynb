{
  "nbformat": 4,
  "nbformat_minor": 0,
  "metadata": {
    "colab": {
      "name": "Pytorch_LinearClassification.ipynb",
      "provenance": [],
      "collapsed_sections": []
    },
    "kernelspec": {
      "name": "python3",
      "display_name": "Python 3"
    },
    "language_info": {
      "name": "python"
    }
  },
  "cells": [
    {
      "cell_type": "code",
      "metadata": {
        "id": "b2Keve2o6K7l"
      },
      "source": [
        "# All Necessary Imports\n",
        "import torch \n",
        "import torch.nn as nn\n",
        "import pandas as pd\n",
        "import matplotlib.pyplot as plt\n",
        "import numpy as np\n",
        "from torch.utils.data import TensorDataset, DataLoader\n",
        "\n",
        "from sklearn.model_selection import train_test_split\n",
        "from sklearn.preprocessing import StandardScaler\n",
        "from sklearn.metrics import plot_confusion_matrix,classification_report, accuracy_score , confusion_matrix"
      ],
      "execution_count": 1,
      "outputs": []
    },
    {
      "cell_type": "code",
      "metadata": {
        "colab": {
          "resources": {
            "http://localhost:8080/nbextensions/google.colab/files.js": {
              "data": "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",
              "ok": true,
              "headers": [
                [
                  "content-type",
                  "application/javascript"
                ]
              ],
              "status": 200,
              "status_text": ""
            }
          },
          "base_uri": "https://localhost:8080/",
          "height": 72
        },
        "id": "RM2asqvx9R5B",
        "outputId": "b3d34c69-bebb-479f-9a23-0993c0a728fd"
      },
      "source": [
        "# Importing Dataset into colab \n",
        "from google.colab import files\n",
        "data = files.upload()"
      ],
      "execution_count": 2,
      "outputs": [
        {
          "output_type": "display_data",
          "data": {
            "text/html": [
              "\n",
              "     <input type=\"file\" id=\"files-1e9557e6-8450-4e6a-b541-95533154ed59\" name=\"files[]\" multiple disabled\n",
              "        style=\"border:none\" />\n",
              "     <output id=\"result-1e9557e6-8450-4e6a-b541-95533154ed59\">\n",
              "      Upload widget is only available when the cell has been executed in the\n",
              "      current browser session. Please rerun this cell to enable.\n",
              "      </output>\n",
              "      <script src=\"/nbextensions/google.colab/files.js\"></script> "
            ],
            "text/plain": [
              "<IPython.core.display.HTML object>"
            ]
          },
          "metadata": {}
        },
        {
          "output_type": "stream",
          "name": "stdout",
          "text": [
            "Saving iris.csv to iris.csv\n"
          ]
        }
      ]
    },
    {
      "cell_type": "code",
      "metadata": {
        "colab": {
          "base_uri": "https://localhost:8080/"
        },
        "id": "b14vpcza9rH4",
        "outputId": "17dea3dc-de70-442b-fa4d-76020cd5e9e4"
      },
      "source": [
        "!ls"
      ],
      "execution_count": 3,
      "outputs": [
        {
          "output_type": "stream",
          "name": "stdout",
          "text": [
            "iris.csv  sample_data\n"
          ]
        }
      ]
    },
    {
      "cell_type": "code",
      "metadata": {
        "colab": {
          "base_uri": "https://localhost:8080/",
          "height": 204
        },
        "id": "_a364FjP9eDh",
        "outputId": "a463d0a5-f0e2-4113-efc6-9abb7b51506b"
      },
      "source": [
        "# Importing Dataset into Dataframe \n",
        "df = pd.read_csv('iris.csv')\n",
        "df.head()"
      ],
      "execution_count": 4,
      "outputs": [
        {
          "output_type": "execute_result",
          "data": {
            "text/html": [
              "<div>\n",
              "<style scoped>\n",
              "    .dataframe tbody tr th:only-of-type {\n",
              "        vertical-align: middle;\n",
              "    }\n",
              "\n",
              "    .dataframe tbody tr th {\n",
              "        vertical-align: top;\n",
              "    }\n",
              "\n",
              "    .dataframe thead th {\n",
              "        text-align: right;\n",
              "    }\n",
              "</style>\n",
              "<table border=\"1\" class=\"dataframe\">\n",
              "  <thead>\n",
              "    <tr style=\"text-align: right;\">\n",
              "      <th></th>\n",
              "      <th>sepal_length</th>\n",
              "      <th>sepal_width</th>\n",
              "      <th>petal_length</th>\n",
              "      <th>petal_width</th>\n",
              "      <th>species</th>\n",
              "    </tr>\n",
              "  </thead>\n",
              "  <tbody>\n",
              "    <tr>\n",
              "      <th>0</th>\n",
              "      <td>5.1</td>\n",
              "      <td>3.5</td>\n",
              "      <td>1.4</td>\n",
              "      <td>0.2</td>\n",
              "      <td>setosa</td>\n",
              "    </tr>\n",
              "    <tr>\n",
              "      <th>1</th>\n",
              "      <td>4.9</td>\n",
              "      <td>3.0</td>\n",
              "      <td>1.4</td>\n",
              "      <td>0.2</td>\n",
              "      <td>setosa</td>\n",
              "    </tr>\n",
              "    <tr>\n",
              "      <th>2</th>\n",
              "      <td>4.7</td>\n",
              "      <td>3.2</td>\n",
              "      <td>1.3</td>\n",
              "      <td>0.2</td>\n",
              "      <td>setosa</td>\n",
              "    </tr>\n",
              "    <tr>\n",
              "      <th>3</th>\n",
              "      <td>4.6</td>\n",
              "      <td>3.1</td>\n",
              "      <td>1.5</td>\n",
              "      <td>0.2</td>\n",
              "      <td>setosa</td>\n",
              "    </tr>\n",
              "    <tr>\n",
              "      <th>4</th>\n",
              "      <td>5.0</td>\n",
              "      <td>3.6</td>\n",
              "      <td>1.4</td>\n",
              "      <td>0.2</td>\n",
              "      <td>setosa</td>\n",
              "    </tr>\n",
              "  </tbody>\n",
              "</table>\n",
              "</div>"
            ],
            "text/plain": [
              "   sepal_length  sepal_width  petal_length  petal_width species\n",
              "0           5.1          3.5           1.4          0.2  setosa\n",
              "1           4.9          3.0           1.4          0.2  setosa\n",
              "2           4.7          3.2           1.3          0.2  setosa\n",
              "3           4.6          3.1           1.5          0.2  setosa\n",
              "4           5.0          3.6           1.4          0.2  setosa"
            ]
          },
          "metadata": {},
          "execution_count": 4
        }
      ]
    },
    {
      "cell_type": "code",
      "metadata": {
        "colab": {
          "base_uri": "https://localhost:8080/"
        },
        "id": "ToFrSzCd6pXJ",
        "outputId": "af3e0aee-c1ca-4eb4-bc87-38a632ae939e"
      },
      "source": [
        "df.isnull().sum()"
      ],
      "execution_count": 5,
      "outputs": [
        {
          "output_type": "execute_result",
          "data": {
            "text/plain": [
              "sepal_length    0\n",
              "sepal_width     0\n",
              "petal_length    0\n",
              "petal_width     0\n",
              "species         0\n",
              "dtype: int64"
            ]
          },
          "metadata": {},
          "execution_count": 5
        }
      ]
    },
    {
      "cell_type": "code",
      "metadata": {
        "colab": {
          "base_uri": "https://localhost:8080/"
        },
        "id": "wCyXsLhM6eWS",
        "outputId": "273424dd-1ea9-4a6a-d130-00a562eb5d00"
      },
      "source": [
        "# Here You can see that we have 3 classes \n",
        "# Here -> we can either use label encoding in target or one hot encoding.\n",
        "# Label Encoding will create one target column \n",
        "# One hot encoding will create three target columns \n",
        "\n",
        "# I will show both approches along with sequential and functional implementation. \n",
        "df.species.unique()"
      ],
      "execution_count": 6,
      "outputs": [
        {
          "output_type": "execute_result",
          "data": {
            "text/plain": [
              "array(['setosa', 'versicolor', 'virginica'], dtype=object)"
            ]
          },
          "metadata": {},
          "execution_count": 6
        }
      ]
    },
    {
      "cell_type": "markdown",
      "metadata": {
        "id": "SGxpxsLp7vl2"
      },
      "source": [
        "# Data Preparation "
      ]
    },
    {
      "cell_type": "code",
      "metadata": {
        "colab": {
          "base_uri": "https://localhost:8080/"
        },
        "id": "UTHdxahi6eSY",
        "outputId": "82c5de7e-cae1-4f95-fb32-ff3bb4304577"
      },
      "source": [
        "# Now we all know that torch uses float32 tensor and numpy has float64 \n",
        "# Also dimension should be (Rows, cols) so I wll reshape Data \n",
        "# With small dataset you will ANN generally overfits but here we will ignore this As we are learning \n",
        "len(df)"
      ],
      "execution_count": 7,
      "outputs": [
        {
          "output_type": "execute_result",
          "data": {
            "text/plain": [
              "150"
            ]
          },
          "metadata": {},
          "execution_count": 7
        }
      ]
    },
    {
      "cell_type": "code",
      "metadata": {
        "id": "93zktoXw6eO0"
      },
      "source": [
        "X = df.drop('species',axis=1)\n",
        "y = df['species']"
      ],
      "execution_count": 8,
      "outputs": []
    },
    {
      "cell_type": "code",
      "metadata": {
        "colab": {
          "base_uri": "https://localhost:8080/",
          "height": 204
        },
        "id": "WmpV53uC6eLB",
        "outputId": "3d58f529-d182-4f1a-b488-1d9b10a0250e"
      },
      "source": [
        "X.head()"
      ],
      "execution_count": 9,
      "outputs": [
        {
          "output_type": "execute_result",
          "data": {
            "text/html": [
              "<div>\n",
              "<style scoped>\n",
              "    .dataframe tbody tr th:only-of-type {\n",
              "        vertical-align: middle;\n",
              "    }\n",
              "\n",
              "    .dataframe tbody tr th {\n",
              "        vertical-align: top;\n",
              "    }\n",
              "\n",
              "    .dataframe thead th {\n",
              "        text-align: right;\n",
              "    }\n",
              "</style>\n",
              "<table border=\"1\" class=\"dataframe\">\n",
              "  <thead>\n",
              "    <tr style=\"text-align: right;\">\n",
              "      <th></th>\n",
              "      <th>sepal_length</th>\n",
              "      <th>sepal_width</th>\n",
              "      <th>petal_length</th>\n",
              "      <th>petal_width</th>\n",
              "    </tr>\n",
              "  </thead>\n",
              "  <tbody>\n",
              "    <tr>\n",
              "      <th>0</th>\n",
              "      <td>5.1</td>\n",
              "      <td>3.5</td>\n",
              "      <td>1.4</td>\n",
              "      <td>0.2</td>\n",
              "    </tr>\n",
              "    <tr>\n",
              "      <th>1</th>\n",
              "      <td>4.9</td>\n",
              "      <td>3.0</td>\n",
              "      <td>1.4</td>\n",
              "      <td>0.2</td>\n",
              "    </tr>\n",
              "    <tr>\n",
              "      <th>2</th>\n",
              "      <td>4.7</td>\n",
              "      <td>3.2</td>\n",
              "      <td>1.3</td>\n",
              "      <td>0.2</td>\n",
              "    </tr>\n",
              "    <tr>\n",
              "      <th>3</th>\n",
              "      <td>4.6</td>\n",
              "      <td>3.1</td>\n",
              "      <td>1.5</td>\n",
              "      <td>0.2</td>\n",
              "    </tr>\n",
              "    <tr>\n",
              "      <th>4</th>\n",
              "      <td>5.0</td>\n",
              "      <td>3.6</td>\n",
              "      <td>1.4</td>\n",
              "      <td>0.2</td>\n",
              "    </tr>\n",
              "  </tbody>\n",
              "</table>\n",
              "</div>"
            ],
            "text/plain": [
              "   sepal_length  sepal_width  petal_length  petal_width\n",
              "0           5.1          3.5           1.4          0.2\n",
              "1           4.9          3.0           1.4          0.2\n",
              "2           4.7          3.2           1.3          0.2\n",
              "3           4.6          3.1           1.5          0.2\n",
              "4           5.0          3.6           1.4          0.2"
            ]
          },
          "metadata": {},
          "execution_count": 9
        }
      ]
    },
    {
      "cell_type": "code",
      "metadata": {
        "colab": {
          "base_uri": "https://localhost:8080/"
        },
        "id": "7zTr2tRs6eH9",
        "outputId": "2a7e2615-980e-41aa-b97e-462909d9b199"
      },
      "source": [
        "y.head()"
      ],
      "execution_count": 10,
      "outputs": [
        {
          "output_type": "execute_result",
          "data": {
            "text/plain": [
              "0    setosa\n",
              "1    setosa\n",
              "2    setosa\n",
              "3    setosa\n",
              "4    setosa\n",
              "Name: species, dtype: object"
            ]
          },
          "metadata": {},
          "execution_count": 10
        }
      ]
    },
    {
      "cell_type": "code",
      "metadata": {
        "colab": {
          "base_uri": "https://localhost:8080/"
        },
        "id": "g3TMvafJ6eFC",
        "outputId": "6bd6ced2-95b8-4a94-ea4a-d85a40de7016"
      },
      "source": [
        "# Label Encoding : -\n",
        "# Pytorch supports label encoding but it should start from 0 to n \n",
        "# Here we have 3 species so we will create target map \n",
        "\n",
        "target_map = {'setosa':0,'versicolor':1,'virginica':2}\n",
        "target_map"
      ],
      "execution_count": 11,
      "outputs": [
        {
          "output_type": "execute_result",
          "data": {
            "text/plain": [
              "{'setosa': 0, 'versicolor': 1, 'virginica': 2}"
            ]
          },
          "metadata": {},
          "execution_count": 11
        }
      ]
    },
    {
      "cell_type": "code",
      "metadata": {
        "colab": {
          "base_uri": "https://localhost:8080/"
        },
        "id": "KXneh_eU6eCa",
        "outputId": "151b1c89-e615-422c-ce7c-3e469092631a"
      },
      "source": [
        "y.apply(lambda x: target_map[x])"
      ],
      "execution_count": 12,
      "outputs": [
        {
          "output_type": "execute_result",
          "data": {
            "text/plain": [
              "0      0\n",
              "1      0\n",
              "2      0\n",
              "3      0\n",
              "4      0\n",
              "      ..\n",
              "145    2\n",
              "146    2\n",
              "147    2\n",
              "148    2\n",
              "149    2\n",
              "Name: species, Length: 150, dtype: int64"
            ]
          },
          "metadata": {},
          "execution_count": 12
        }
      ]
    },
    {
      "cell_type": "code",
      "metadata": {
        "id": "lpSwYRCU6d_N"
      },
      "source": [
        "y = y.apply(lambda x: target_map[x])"
      ],
      "execution_count": 13,
      "outputs": []
    },
    {
      "cell_type": "code",
      "metadata": {
        "colab": {
          "base_uri": "https://localhost:8080/"
        },
        "id": "7dB_clZ-6d73",
        "outputId": "2d5e7e34-398a-4898-a719-e8e73da7f9d7"
      },
      "source": [
        "# Now let's Reshape and convert data\n",
        "# Dont run this cell twice , It will give Error \n",
        "X = X.values.reshape(X.shape[0],X.shape[1]).astype(np.float32)\n",
        "y = y.values.reshape(y.shape[0],-1).astype(np.float32)\n",
        "\n",
        "print('Shape :', X.shape,' Dtype:', X.dtype)\n",
        "print('Shape :', y.shape,' Dtype:', y.dtype)"
      ],
      "execution_count": 14,
      "outputs": [
        {
          "output_type": "stream",
          "name": "stdout",
          "text": [
            "Shape : (150, 4)  Dtype: float32\n",
            "Shape : (150, 1)  Dtype: float32\n"
          ]
        }
      ]
    },
    {
      "cell_type": "code",
      "metadata": {
        "colab": {
          "base_uri": "https://localhost:8080/"
        },
        "id": "UY_cwuNv6d49",
        "outputId": "01ef4770-b086-40e9-a2e0-bf95792d410e"
      },
      "source": [
        "X[0:5,:]"
      ],
      "execution_count": 15,
      "outputs": [
        {
          "output_type": "execute_result",
          "data": {
            "text/plain": [
              "array([[5.1, 3.5, 1.4, 0.2],\n",
              "       [4.9, 3. , 1.4, 0.2],\n",
              "       [4.7, 3.2, 1.3, 0.2],\n",
              "       [4.6, 3.1, 1.5, 0.2],\n",
              "       [5. , 3.6, 1.4, 0.2]], dtype=float32)"
            ]
          },
          "metadata": {},
          "execution_count": 15
        }
      ]
    },
    {
      "cell_type": "code",
      "metadata": {
        "colab": {
          "base_uri": "https://localhost:8080/"
        },
        "id": "DWozp-kC6d2H",
        "outputId": "4dc2f18b-887e-4128-94e1-3498e01948fa"
      },
      "source": [
        "y[0:5]"
      ],
      "execution_count": 16,
      "outputs": [
        {
          "output_type": "execute_result",
          "data": {
            "text/plain": [
              "array([[0.],\n",
              "       [0.],\n",
              "       [0.],\n",
              "       [0.],\n",
              "       [0.]], dtype=float32)"
            ]
          },
          "metadata": {},
          "execution_count": 16
        }
      ]
    },
    {
      "cell_type": "code",
      "metadata": {
        "colab": {
          "base_uri": "https://localhost:8080/"
        },
        "id": "oQHFVTN26dyV",
        "outputId": "2a2035de-acb1-4d4d-d656-02965bf57861"
      },
      "source": [
        "# Convert numpy to tensor \n",
        "print(type(X))\n",
        "print(type(y))\n",
        "\n",
        "print('--Conversion---')\n",
        "X = torch.from_numpy(X)\n",
        "y = torch.from_numpy(y)\n",
        "print(type(X))\n",
        "print(type(y))"
      ],
      "execution_count": 17,
      "outputs": [
        {
          "output_type": "stream",
          "name": "stdout",
          "text": [
            "<class 'numpy.ndarray'>\n",
            "<class 'numpy.ndarray'>\n",
            "--Conversion---\n",
            "<class 'torch.Tensor'>\n",
            "<class 'torch.Tensor'>\n"
          ]
        }
      ]
    },
    {
      "cell_type": "code",
      "metadata": {
        "colab": {
          "base_uri": "https://localhost:8080/"
        },
        "id": "lN8Ldso16dvE",
        "outputId": "4d3013eb-808c-4274-da30-2228030e613f"
      },
      "source": [
        "# Now lets split Data into Train and Test \n",
        "X_train, X_test , y_train, y_test = train_test_split(X,y,test_size=0.25,random_state=101)\n",
        "len(X_train), len(X_test) , len(y_train), len(y_test)"
      ],
      "execution_count": 18,
      "outputs": [
        {
          "output_type": "execute_result",
          "data": {
            "text/plain": [
              "(112, 38, 112, 38)"
            ]
          },
          "metadata": {},
          "execution_count": 18
        }
      ]
    },
    {
      "cell_type": "code",
      "metadata": {
        "id": "49lEA4wQ6drM"
      },
      "source": [
        "# iterable Creation \n",
        "train_data = TensorDataset(X_train,y_train)\n",
        "test_data = TensorDataset(X_test,y_test)\n",
        "\n",
        "# loader Creation \n",
        "train_data_loader = DataLoader(train_data,batch_size=32,shuffle=True)\n",
        "test_data_loader = DataLoader(test_data,batch_size=38)"
      ],
      "execution_count": 19,
      "outputs": []
    },
    {
      "cell_type": "markdown",
      "metadata": {
        "id": "isVfrAnrEpWS"
      },
      "source": [
        "# Let's Create and Train Model \n",
        "### Type 1 : Linear classification simple linear model"
      ]
    },
    {
      "cell_type": "code",
      "metadata": {
        "id": "6avxkrQaCrM3"
      },
      "source": [
        " # Linear Model -- > Contains Only 1 Input and 1 output layer \n",
        " # This model can only generate st lines \n",
        " class Linear_NN(nn.Module):\n",
        "   def __init__(self,input_shape,output_shape):\n",
        "     super(Linear_NN,self).__init__()\n",
        "     self.layers = nn.Linear(input_shape,output_shape)\n",
        "   def forward(self,x):\n",
        "     return self.layers(x)"
      ],
      "execution_count": 132,
      "outputs": []
    },
    {
      "cell_type": "code",
      "metadata": {
        "id": "SwjQD8tZCrJX",
        "colab": {
          "base_uri": "https://localhost:8080/"
        },
        "outputId": "938c4c04-8951-4184-a351-e7441fb55fbe"
      },
      "source": [
        "model = Linear_NN(4,3)\n",
        "model"
      ],
      "execution_count": 133,
      "outputs": [
        {
          "output_type": "execute_result",
          "data": {
            "text/plain": [
              "Linear_NN(\n",
              "  (layers): Linear(in_features=4, out_features=3, bias=True)\n",
              ")"
            ]
          },
          "metadata": {},
          "execution_count": 133
        }
      ]
    },
    {
      "cell_type": "code",
      "metadata": {
        "id": "LVpcYiXQCrDG"
      },
      "source": [
        "criterion = nn.CrossEntropyLoss()\n",
        "optimizer = torch.optim.Adam(model.parameters())"
      ],
      "execution_count": 134,
      "outputs": []
    },
    {
      "cell_type": "code",
      "metadata": {
        "id": "RnTKHuYhCrAA",
        "colab": {
          "base_uri": "https://localhost:8080/"
        },
        "outputId": "bf8ef0d7-b26d-426a-8f50-d7ad0af41b4f"
      },
      "source": [
        "n_epoch = 500\n",
        "train_acc = []\n",
        "train_loss = []\n",
        "\n",
        "for epoch in range(n_epoch):\n",
        "  if epoch%100 == 0:\n",
        "    print(f'Epoch : {epoch+1}/{n_epoch} ')\n",
        "\n",
        "  for batch , data in enumerate(train_data_loader):\n",
        "    x = data[0]\n",
        "    y = data[1]\n",
        "    \n",
        "    optimizer.zero_grad()   # Removing accumulation of gradients \n",
        "    y_pred = model(x)       # model forward pass\n",
        "    loss = criterion(y_pred,y.squeeze().long())  # loss calculation \n",
        "    train_loss.append(loss.item())  \n",
        "    loss.backward()  # df/dx\n",
        "    optimizer.step() # w = w - n*df/dx\n",
        "\n",
        "    \n",
        "    with torch.no_grad():\n",
        "      accuracy = (torch.argmax(y_pred,axis=1) == y.squeeze().long()).float().mean()\n",
        "    train_acc.append(accuracy)\n",
        "\n",
        "    if epoch%100 == 0:\n",
        "      print(f'    Batch : {batch}  Loss : {loss.item():.4f}  Accuracy :{accuracy}')"
      ],
      "execution_count": 135,
      "outputs": [
        {
          "output_type": "stream",
          "name": "stdout",
          "text": [
            "Epoch : 1/500 \n",
            "    Batch : 0  Loss : 2.9493  Accuracy :0.34375\n",
            "    Batch : 1  Loss : 3.0822  Accuracy :0.375\n",
            "    Batch : 2  Loss : 2.6525  Accuracy :0.34375\n",
            "    Batch : 3  Loss : 2.3498  Accuracy :0.3125\n",
            "Epoch : 101/500 \n",
            "    Batch : 0  Loss : 0.8225  Accuracy :0.65625\n",
            "    Batch : 1  Loss : 0.8271  Accuracy :0.59375\n",
            "    Batch : 2  Loss : 0.8417  Accuracy :0.625\n",
            "    Batch : 3  Loss : 0.9044  Accuracy :0.6875\n",
            "Epoch : 201/500 \n",
            "    Batch : 0  Loss : 0.6096  Accuracy :0.6875\n",
            "    Batch : 1  Loss : 0.5533  Accuracy :0.78125\n",
            "    Batch : 2  Loss : 0.6245  Accuracy :0.6875\n",
            "    Batch : 3  Loss : 0.5756  Accuracy :0.875\n",
            "Epoch : 301/500 \n",
            "    Batch : 0  Loss : 0.4667  Accuracy :0.84375\n",
            "    Batch : 1  Loss : 0.5291  Accuracy :0.78125\n",
            "    Batch : 2  Loss : 0.4731  Accuracy :0.84375\n",
            "    Batch : 3  Loss : 0.4905  Accuracy :0.6875\n",
            "Epoch : 401/500 \n",
            "    Batch : 0  Loss : 0.4656  Accuracy :0.78125\n",
            "    Batch : 1  Loss : 0.4174  Accuracy :0.90625\n",
            "    Batch : 2  Loss : 0.4274  Accuracy :0.90625\n",
            "    Batch : 3  Loss : 0.3944  Accuracy :0.9375\n"
          ]
        }
      ]
    },
    {
      "cell_type": "code",
      "metadata": {
        "colab": {
          "base_uri": "https://localhost:8080/"
        },
        "id": "v1VR-Kmf4iMj",
        "outputId": "b8a6645c-9aa4-40ea-ded5-b58e7dc1bad2"
      },
      "source": [
        "with torch.no_grad():\n",
        "  x,y = test_data[0:]\n",
        "  y_pred = model(x)\n",
        "  loss = criterion(y_pred,y.squeeze().long())\n",
        "\n",
        "  accuracy = (torch.argmax(y_pred,axis=1) == y.squeeze().long()).float().mean()\n",
        "\n",
        "  print(f'Test Loss : {loss.item():.4f}  Accuracy : {accuracy} ')\n"
      ],
      "execution_count": 154,
      "outputs": [
        {
          "output_type": "stream",
          "name": "stdout",
          "text": [
            "Test Loss : 0.4684  Accuracy : 0.9736841917037964 \n"
          ]
        }
      ]
    },
    {
      "cell_type": "code",
      "metadata": {
        "colab": {
          "base_uri": "https://localhost:8080/"
        },
        "id": "5YfxlbNu49Xg",
        "outputId": "b57ecb10-9774-4b1f-a93a-b65ff0fdc3ea"
      },
      "source": [
        "# Test \n",
        "test_ = torch.tensor([5.1,3.5,1.4,0.2]).reshape(1,4)\n",
        "test_"
      ],
      "execution_count": 143,
      "outputs": [
        {
          "output_type": "execute_result",
          "data": {
            "text/plain": [
              "tensor([[5.1000, 3.5000, 1.4000, 0.2000]])"
            ]
          },
          "metadata": {},
          "execution_count": 143
        }
      ]
    },
    {
      "cell_type": "code",
      "metadata": {
        "colab": {
          "base_uri": "https://localhost:8080/"
        },
        "id": "_2z5tR7x7o65",
        "outputId": "99c70e08-f2fa-4bae-b4b8-494f0f1ee329"
      },
      "source": [
        "result = model(test_)\n",
        "print('Actual Target : ',target_map.items(),'\\nResult : ',torch.argmax(result,axis=1).item())"
      ],
      "execution_count": 153,
      "outputs": [
        {
          "output_type": "stream",
          "name": "stdout",
          "text": [
            "Actual Target :  dict_items([('setosa', 0), ('versicolor', 1), ('virginica', 2)]) \n",
            "Result :  0\n"
          ]
        }
      ]
    },
    {
      "cell_type": "code",
      "metadata": {
        "colab": {
          "base_uri": "https://localhost:8080/"
        },
        "id": "mnlFfWoYi90u",
        "outputId": "bb966876-7f46-4062-a592-74659d3d1f09"
      },
      "source": [
        "print(classification_report(torch.argmax(y_pred,axis=1),y.squeeze().long()))"
      ],
      "execution_count": 159,
      "outputs": [
        {
          "output_type": "stream",
          "name": "stdout",
          "text": [
            "              precision    recall  f1-score   support\n",
            "\n",
            "           0       1.00      1.00      1.00        10\n",
            "           1       0.94      1.00      0.97        16\n",
            "           2       1.00      0.92      0.96        12\n",
            "\n",
            "    accuracy                           0.97        38\n",
            "   macro avg       0.98      0.97      0.98        38\n",
            "weighted avg       0.98      0.97      0.97        38\n",
            "\n"
          ]
        }
      ]
    },
    {
      "cell_type": "markdown",
      "metadata": {
        "id": "jaUO8swT9fv8"
      },
      "source": [
        "### Type 2 : Linear classification Non Linear Model (Sequential)"
      ]
    },
    {
      "cell_type": "code",
      "metadata": {
        "id": "4M6C-psd9fSM"
      },
      "source": [
        "class Linear_NN(nn.Module):\n",
        "   def __init__(self,input_shape,output_shape):\n",
        "     super(Linear_NN,self).__init__()\n",
        "     self.layers = nn.Sequential(nn.Linear(input_shape,16),\n",
        "                                 nn.Sigmoid(),\n",
        "                                 nn.Linear(16,output_shape))\n",
        "   def forward(self,x):\n",
        "     return self.layers(x)"
      ],
      "execution_count": 176,
      "outputs": []
    },
    {
      "cell_type": "code",
      "metadata": {
        "colab": {
          "base_uri": "https://localhost:8080/"
        },
        "id": "s8sx1zDn9N1s",
        "outputId": "2dbcfc0d-8768-44a2-dd2c-d070cf8c2acf"
      },
      "source": [
        "model = Linear_NN(4,3)\n",
        "model"
      ],
      "execution_count": 177,
      "outputs": [
        {
          "output_type": "execute_result",
          "data": {
            "text/plain": [
              "Linear_NN(\n",
              "  (layers): Sequential(\n",
              "    (0): Linear(in_features=4, out_features=16, bias=True)\n",
              "    (1): Sigmoid()\n",
              "    (2): Linear(in_features=16, out_features=3, bias=True)\n",
              "  )\n",
              ")"
            ]
          },
          "metadata": {},
          "execution_count": 177
        }
      ]
    },
    {
      "cell_type": "code",
      "metadata": {
        "id": "4WsIadXb9_uP"
      },
      "source": [
        "criterion = nn.CrossEntropyLoss()\n",
        "optimizer = torch.optim.Adam(model.parameters())"
      ],
      "execution_count": 178,
      "outputs": []
    },
    {
      "cell_type": "code",
      "metadata": {
        "colab": {
          "base_uri": "https://localhost:8080/"
        },
        "id": "ZFhZlHLY-fyH",
        "outputId": "5548c865-fd74-4952-85ef-4b7101fb6edc"
      },
      "source": [
        "n_epoch = 500\n",
        "train_acc = []\n",
        "train_loss = []\n",
        "\n",
        "for epoch in range(n_epoch):\n",
        "  if epoch%100 == 0:\n",
        "    print(f'Epoch : {epoch+1}/{n_epoch} ')\n",
        "\n",
        "  for batch , data in enumerate(train_data_loader):\n",
        "    x = data[0]\n",
        "    y = data[1]\n",
        "    \n",
        "    optimizer.zero_grad()   # Removing accumulation of gradients \n",
        "    y_pred = model(x)       # model forward pass\n",
        "    loss = criterion(y_pred,y.squeeze().long())  # loss calculation \n",
        "    train_loss.append(loss.item())  \n",
        "    loss.backward()  # df/dx\n",
        "    optimizer.step() # w = w - n*df/dx\n",
        "\n",
        "    \n",
        "    with torch.no_grad():\n",
        "      accuracy = (torch.argmax(y_pred,axis=1) == y.squeeze().long()).float().mean()\n",
        "    train_acc.append(accuracy)\n",
        "\n",
        "    if epoch%100 == 0:\n",
        "      print(f'    Batch : {batch}  Loss : {loss.item():.4f}  Accuracy :{accuracy}')\n"
      ],
      "execution_count": 179,
      "outputs": [
        {
          "output_type": "stream",
          "name": "stdout",
          "text": [
            "Epoch : 1/500 \n",
            "    Batch : 0  Loss : 1.1963  Accuracy :0.34375\n",
            "    Batch : 1  Loss : 1.2619  Accuracy :0.28125\n",
            "    Batch : 2  Loss : 1.1226  Accuracy :0.40625\n",
            "    Batch : 3  Loss : 1.0877  Accuracy :0.375\n",
            "Epoch : 101/500 \n",
            "    Batch : 0  Loss : 0.5986  Accuracy :0.59375\n",
            "    Batch : 1  Loss : 0.5115  Accuracy :0.78125\n",
            "    Batch : 2  Loss : 0.5312  Accuracy :0.8125\n",
            "    Batch : 3  Loss : 0.5233  Accuracy :0.75\n",
            "Epoch : 201/500 \n",
            "    Batch : 0  Loss : 0.3085  Accuracy :0.96875\n",
            "    Batch : 1  Loss : 0.3706  Accuracy :0.9375\n",
            "    Batch : 2  Loss : 0.4130  Accuracy :0.96875\n",
            "    Batch : 3  Loss : 0.4313  Accuracy :1.0\n",
            "Epoch : 301/500 \n",
            "    Batch : 0  Loss : 0.2671  Accuracy :0.9375\n",
            "    Batch : 1  Loss : 0.2806  Accuracy :0.96875\n",
            "    Batch : 2  Loss : 0.2101  Accuracy :1.0\n",
            "    Batch : 3  Loss : 0.3350  Accuracy :1.0\n",
            "Epoch : 401/500 \n",
            "    Batch : 0  Loss : 0.2346  Accuracy :0.9375\n",
            "    Batch : 1  Loss : 0.1670  Accuracy :1.0\n",
            "    Batch : 2  Loss : 0.1419  Accuracy :1.0\n",
            "    Batch : 3  Loss : 0.2060  Accuracy :0.9375\n"
          ]
        }
      ]
    },
    {
      "cell_type": "code",
      "metadata": {
        "colab": {
          "base_uri": "https://localhost:8080/"
        },
        "id": "8cb5kK00-j7O",
        "outputId": "46ae6282-585d-4cdd-e395-919b2452f382"
      },
      "source": [
        "with torch.no_grad():\n",
        "  x,y = test_data[0:]\n",
        "  y_pred = model(x)\n",
        "  loss = criterion(y_pred,y.squeeze().long())\n",
        "\n",
        "  accuracy = (torch.argmax(y_pred,axis=1) == y.squeeze().long()).float().mean()\n",
        "\n",
        "  print(f'Test Loss : {loss.item():.4f}  Accuracy : {accuracy} ')\n"
      ],
      "execution_count": 180,
      "outputs": [
        {
          "output_type": "stream",
          "name": "stdout",
          "text": [
            "Test Loss : 0.1492  Accuracy : 1.0 \n"
          ]
        }
      ]
    },
    {
      "cell_type": "code",
      "metadata": {
        "colab": {
          "base_uri": "https://localhost:8080/"
        },
        "id": "7_njVvbE-sTx",
        "outputId": "b821fcd9-fa26-460d-d40e-a4b93ef82fa8"
      },
      "source": [
        "print(classification_report(torch.argmax(y_pred,axis=1),y.squeeze().long()))"
      ],
      "execution_count": 181,
      "outputs": [
        {
          "output_type": "stream",
          "name": "stdout",
          "text": [
            "              precision    recall  f1-score   support\n",
            "\n",
            "           0       1.00      1.00      1.00        10\n",
            "           1       1.00      1.00      1.00        17\n",
            "           2       1.00      1.00      1.00        11\n",
            "\n",
            "    accuracy                           1.00        38\n",
            "   macro avg       1.00      1.00      1.00        38\n",
            "weighted avg       1.00      1.00      1.00        38\n",
            "\n"
          ]
        }
      ]
    },
    {
      "cell_type": "code",
      "metadata": {
        "colab": {
          "base_uri": "https://localhost:8080/"
        },
        "id": "uo9rraqnAnFx",
        "outputId": "5a2c15c8-41c8-4028-e991-5547049c874b"
      },
      "source": [
        "print(confusion_matrix(torch.argmax(y_pred,axis=1),y.squeeze().long()))"
      ],
      "execution_count": 182,
      "outputs": [
        {
          "output_type": "stream",
          "name": "stdout",
          "text": [
            "[[10  0  0]\n",
            " [ 0 17  0]\n",
            " [ 0  0 11]]\n"
          ]
        }
      ]
    },
    {
      "cell_type": "markdown",
      "metadata": {
        "id": "Ak-d1ynKA8JT"
      },
      "source": [
        "### Type 3 : Linear classification Non Linear Model (Functional)"
      ]
    },
    {
      "cell_type": "code",
      "metadata": {
        "id": "bl6zdTtMAw3z"
      },
      "source": [
        "class Linear_NN(nn.Module):\n",
        "   def __init__(self,input_shape,output_shape):\n",
        "     super(Linear_NN,self).__init__()\n",
        "     self.layer1 = nn.Linear(input_shape,16)\n",
        "     self.activation = nn.Sigmoid()\n",
        "     self.layer2 = nn.Linear(16,output_shape)\n",
        "\n",
        "   def forward(self,x):\n",
        "     x = self.layer1(x)\n",
        "     x = self.activation(x)\n",
        "     x = self.layer2(x)\n",
        "     return x"
      ],
      "execution_count": 188,
      "outputs": []
    },
    {
      "cell_type": "code",
      "metadata": {
        "colab": {
          "base_uri": "https://localhost:8080/"
        },
        "id": "HQN5nSruBWh4",
        "outputId": "aa7fe51f-e4f2-409a-b881-46f8f8ea7d5a"
      },
      "source": [
        "model = Linear_NN(4,3)\n",
        "model"
      ],
      "execution_count": 189,
      "outputs": [
        {
          "output_type": "execute_result",
          "data": {
            "text/plain": [
              "Linear_NN(\n",
              "  (layer1): Linear(in_features=4, out_features=16, bias=True)\n",
              "  (activation): Sigmoid()\n",
              "  (layer2): Linear(in_features=16, out_features=3, bias=True)\n",
              ")"
            ]
          },
          "metadata": {},
          "execution_count": 189
        }
      ]
    },
    {
      "cell_type": "code",
      "metadata": {
        "id": "-3AWv5RFBmzD"
      },
      "source": [
        "criterion = nn.CrossEntropyLoss()\n",
        "optimizer = torch.optim.Adam(model.parameters())"
      ],
      "execution_count": 190,
      "outputs": []
    },
    {
      "cell_type": "code",
      "metadata": {
        "colab": {
          "base_uri": "https://localhost:8080/"
        },
        "id": "W4SfEIANBblf",
        "outputId": "4ff2eb50-73e1-42d2-e760-5db031e5fe9a"
      },
      "source": [
        "n_epoch = 500\n",
        "train_acc = []\n",
        "train_loss = []\n",
        "\n",
        "for epoch in range(n_epoch):\n",
        "  if epoch%100 == 0:\n",
        "    print(f'Epoch : {epoch+1}/{n_epoch} ')\n",
        "\n",
        "  for batch , data in enumerate(train_data_loader):\n",
        "    x = data[0]\n",
        "    y = data[1]\n",
        "    \n",
        "    optimizer.zero_grad()   # Removing accumulation of gradients \n",
        "    y_pred = model(x)       # model forward pass\n",
        "    loss = criterion(y_pred,y.squeeze().long())  # loss calculation \n",
        "    train_loss.append(loss.item())  \n",
        "    loss.backward()  # df/dx\n",
        "    optimizer.step() # w = w - n*df/dx\n",
        "\n",
        "    \n",
        "    with torch.no_grad():\n",
        "      accuracy = (torch.argmax(y_pred,axis=1) == y.squeeze().long()).float().mean()\n",
        "    train_acc.append(accuracy)\n",
        "\n",
        "    if epoch%100 == 0:\n",
        "      print(f'    Batch : {batch}  Loss : {loss.item():.4f}  Accuracy :{accuracy}')"
      ],
      "execution_count": 191,
      "outputs": [
        {
          "output_type": "stream",
          "name": "stdout",
          "text": [
            "Epoch : 1/500 \n",
            "    Batch : 0  Loss : 1.0837  Accuracy :0.40625\n",
            "    Batch : 1  Loss : 1.1605  Accuracy :0.28125\n",
            "    Batch : 2  Loss : 1.1160  Accuracy :0.40625\n",
            "    Batch : 3  Loss : 1.1117  Accuracy :0.3125\n",
            "Epoch : 101/500 \n",
            "    Batch : 0  Loss : 0.5017  Accuracy :0.78125\n",
            "    Batch : 1  Loss : 0.5480  Accuracy :0.75\n",
            "    Batch : 2  Loss : 0.4966  Accuracy :0.84375\n",
            "    Batch : 3  Loss : 0.5699  Accuracy :0.75\n",
            "Epoch : 201/500 \n",
            "    Batch : 0  Loss : 0.3771  Accuracy :0.90625\n",
            "    Batch : 1  Loss : 0.3672  Accuracy :1.0\n",
            "    Batch : 2  Loss : 0.3474  Accuracy :1.0\n",
            "    Batch : 3  Loss : 0.2594  Accuracy :0.875\n",
            "Epoch : 301/500 \n",
            "    Batch : 0  Loss : 0.2469  Accuracy :1.0\n",
            "    Batch : 1  Loss : 0.2765  Accuracy :0.90625\n",
            "    Batch : 2  Loss : 0.1888  Accuracy :1.0\n",
            "    Batch : 3  Loss : 0.2195  Accuracy :1.0\n",
            "Epoch : 401/500 \n",
            "    Batch : 0  Loss : 0.1301  Accuracy :1.0\n",
            "    Batch : 1  Loss : 0.1456  Accuracy :0.96875\n",
            "    Batch : 2  Loss : 0.1685  Accuracy :0.96875\n",
            "    Batch : 3  Loss : 0.2721  Accuracy :0.9375\n"
          ]
        }
      ]
    },
    {
      "cell_type": "code",
      "metadata": {
        "colab": {
          "base_uri": "https://localhost:8080/"
        },
        "id": "XY1QGetoBgPS",
        "outputId": "7ab65c99-78d1-49fc-d54a-9ee71b76478b"
      },
      "source": [
        "with torch.no_grad():\n",
        "  x,y = test_data[0:]\n",
        "  y_pred = model(x)\n",
        "  loss = criterion(y_pred,y.squeeze().long())\n",
        "\n",
        "  accuracy = (torch.argmax(y_pred,axis=1) == y.squeeze().long()).float().mean()\n",
        "\n",
        "  print(f'Test Loss : {loss.item():.4f}  Accuracy : {accuracy} ')"
      ],
      "execution_count": 192,
      "outputs": [
        {
          "output_type": "stream",
          "name": "stdout",
          "text": [
            "Test Loss : 0.1301  Accuracy : 1.0 \n"
          ]
        }
      ]
    },
    {
      "cell_type": "code",
      "metadata": {
        "colab": {
          "base_uri": "https://localhost:8080/"
        },
        "id": "Y_WX63ocBilZ",
        "outputId": "4acdd87b-725f-47d9-cd18-01f09821204e"
      },
      "source": [
        "print(classification_report(torch.argmax(y_pred,axis=1),y.squeeze().long()))"
      ],
      "execution_count": 193,
      "outputs": [
        {
          "output_type": "stream",
          "name": "stdout",
          "text": [
            "              precision    recall  f1-score   support\n",
            "\n",
            "           0       1.00      1.00      1.00        10\n",
            "           1       1.00      1.00      1.00        17\n",
            "           2       1.00      1.00      1.00        11\n",
            "\n",
            "    accuracy                           1.00        38\n",
            "   macro avg       1.00      1.00      1.00        38\n",
            "weighted avg       1.00      1.00      1.00        38\n",
            "\n"
          ]
        }
      ]
    },
    {
      "cell_type": "code",
      "metadata": {
        "colab": {
          "base_uri": "https://localhost:8080/"
        },
        "id": "nBtX7JesBukq",
        "outputId": "27324207-9b12-4078-ff3f-9209441c732a"
      },
      "source": [
        "print(confusion_matrix(torch.argmax(y_pred,axis=1),y.squeeze().long()))"
      ],
      "execution_count": 194,
      "outputs": [
        {
          "output_type": "stream",
          "name": "stdout",
          "text": [
            "[[10  0  0]\n",
            " [ 0 17  0]\n",
            " [ 0  0 11]]\n"
          ]
        }
      ]
    },
    {
      "cell_type": "code",
      "metadata": {
        "id": "rAdrADohBxWX"
      },
      "source": [
        "# Conclusion \n",
        "# 1 . Linear model took 500 epochs to get good accuracy but could reach up to 80-90%\n",
        "# 2. Non linear took same epoch but able to get accuracy of 100% \n",
        "\n",
        "# Data has some non linearity in it which we are able to find with the help of Non linear model"
      ],
      "execution_count": 195,
      "outputs": []
    },
    {
      "cell_type": "code",
      "metadata": {
        "id": "7F4Z1TRDDSWp"
      },
      "source": [
        ""
      ],
      "execution_count": null,
      "outputs": []
    }
  ]
}